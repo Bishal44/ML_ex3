{
  "cells": [
    {
      "cell_type": "markdown",
      "source": [
        "# **Machine Learning - Exercise 3 (WS 2022)**\n",
        "**Group (31):** Petkova Violeta (01636660), Upadhyaya Bishal (12119246), Gabor Toaso (12127079)\n",
        "\n",
        "**Model name:** Single-layer using LSTM128 and 20 epochs"
      ],
      "metadata": {
        "id": "Q3s2vodGPwGZ"
      },
      "id": "Q3s2vodGPwGZ"
    },
    {
      "cell_type": "code",
      "execution_count": 95,
      "id": "50eb1355",
      "metadata": {
        "id": "50eb1355"
      },
      "outputs": [],
      "source": [
        "import os\n",
        "from bs4 import BeautifulSoup\n",
        "import string\n",
        "from nltk.tokenize import RegexpTokenizer\n",
        "from tensorflow.keras.preprocessing.text import Tokenizer\n",
        "from tensorflow.keras.layers import Embedding, LSTM, Dense\n",
        "from tensorflow.keras.models import Sequential, load_model\n",
        "from tensorflow.keras.models import load_model\n",
        "from tensorflow.keras.preprocessing.sequence import pad_sequences\n",
        "from keras.layers.core import Dense, Activation\n",
        "from tensorflow.keras.utils import to_categorical\n",
        "from tensorflow.keras.optimizers import Adam\n",
        "from keras.utils import to_categorical\n",
        "import pickle\n",
        "from keras.optimizers import RMSprop\n",
        "import numpy as np\n",
        "from numpy import array\n",
        "import heapq\n",
        "import matplotlib.pyplot as plt\n",
        "import matplotlib"
      ]
    },
    {
      "cell_type": "markdown",
      "id": "nXwmMiUHVmN1",
      "metadata": {
        "id": "nXwmMiUHVmN1"
      },
      "source": [
        "**Import \"title\" data from files 000-007**"
      ]
    },
    {
      "cell_type": "code",
      "execution_count": 96,
      "id": "b0f4c486",
      "metadata": {
        "id": "b0f4c486"
      },
      "outputs": [],
      "source": [
        "# By defining the nam of the model, this is inherited to other deliverables\n",
        "name=\"Single_layer_LSTM128_20epochs\"\n",
        "\n",
        "# Importing \"title\"s from documents (00-07)\n",
        "documents = []\n",
        "for file in os.listdir(\"reuters_sample/\"): # original: \"reuters_data/\"\n",
        "    if file.endswith('.sgm'): # it is important for GoogleColab\n",
        "        filename = os.path.join(\"reuters_sample\", file) # original: \"reuters_data\"\n",
        "        f = open(filename, 'r', encoding='utf-8', errors='ignore')\n",
        "        dataFile = f.read().lower()\n",
        "        \n",
        "        soup = BeautifulSoup(dataFile, 'html.parser')\n",
        "        contents = soup.findAll('title')\n",
        "        \n",
        "        for content in contents:\n",
        "            documents.append(content.text)"
      ]
    },
    {
      "cell_type": "code",
      "execution_count": 97,
      "id": "jwFHnhJ6YrPG",
      "metadata": {
        "colab": {
          "base_uri": "https://localhost:8080/"
        },
        "id": "jwFHnhJ6YrPG",
        "outputId": "350e23be-cbd7-457d-919b-992abbfdce26"
      },
      "outputs": [
        {
          "output_type": "stream",
          "name": "stdout",
          "text": [
            "Number of documents: 7958\n"
          ]
        }
      ],
      "source": [
        "# Print the number of documents\n",
        "print('Number of documents: {}'.format(len(documents)))"
      ]
    },
    {
      "cell_type": "code",
      "execution_count": 98,
      "id": "BwkB00Xzx-vT",
      "metadata": {
        "colab": {
          "base_uri": "https://localhost:8080/"
        },
        "id": "BwkB00Xzx-vT",
        "outputId": "a471e5f4-4ba2-461d-b8d8-81f96a84a34d"
      },
      "outputs": [
        {
          "output_type": "stream",
          "name": "stdout",
          "text": [
            "Number of documents: 7693\n"
          ]
        }
      ],
      "source": [
        "# Remove duplicated strings from the list of strings\n",
        "documents = [i for n, i in enumerate(documents) if i not in documents[:n]]\n",
        "print('Number of documents: {}'.format(len(documents)))"
      ]
    },
    {
      "cell_type": "code",
      "execution_count": 99,
      "id": "2f9549e3",
      "metadata": {
        "colab": {
          "base_uri": "https://localhost:8080/"
        },
        "id": "2f9549e3",
        "outputId": "7421cf0e-257b-43b7-d4d1-ba62858f7d7b"
      },
      "outputs": [
        {
          "output_type": "execute_result",
          "data": {
            "text/plain": [
              "['fairfax says higher tax hits first half earnings',\n",
              " 'bank of france sells 1.6 billion francs crh tap',\n",
              " 'britoil plc <btol.l> 1986 yr',\n",
              " 'uk unit wage/labour costs rose 3.3 pct in three months ending jan - official\\n',\n",
              " 'uk average earnings rose 7.6 pct in january, underlying rise 7.5 pct - official\\n',\n",
              " 'u.k. february adjusted sterling m3 rises 2-1/4 pct, m0 down 3/4 to one pct - official\\n',\n",
              " 'legal and general group plc year 1986',\n",
              " 'feb sterling bank lending up 2.9 billion stg after 1.75 rise in jan - official\\n',\n",
              " 'uk feb adjusted unemployment fell 44,100 total 3.07 mln or 11.1 pct - official\\n',\n",
              " 'japan to ask chip makers to slash output further']"
            ]
          },
          "metadata": {},
          "execution_count": 99
        }
      ],
      "source": [
        "# Print the first 10 candidates from document\n",
        "documents[:10]"
      ]
    },
    {
      "cell_type": "markdown",
      "id": "fRsdiodgY4er",
      "metadata": {
        "id": "fRsdiodgY4er"
      },
      "source": [
        "**Join the documents**"
      ]
    },
    {
      "cell_type": "code",
      "execution_count": 100,
      "id": "9e5894ab",
      "metadata": {
        "id": "9e5894ab"
      },
      "outputs": [],
      "source": [
        "# Join imported documents (00-07)\n",
        "data = \"\"\n",
        "for d in documents:\n",
        "    data += d"
      ]
    },
    {
      "cell_type": "code",
      "execution_count": 101,
      "id": "a3a635c4",
      "metadata": {
        "colab": {
          "base_uri": "https://localhost:8080/"
        },
        "id": "a3a635c4",
        "outputId": "2b896b96-531c-48f4-bd60-bcdb445dfb91"
      },
      "outputs": [
        {
          "output_type": "stream",
          "name": "stdout",
          "text": [
            "Number of data: 347403\n"
          ]
        }
      ],
      "source": [
        "# Print the number of data\n",
        "print('Number of data: {}'.format(len(data)))"
      ]
    },
    {
      "cell_type": "code",
      "execution_count": 102,
      "id": "3ffe6795",
      "metadata": {
        "colab": {
          "base_uri": "https://localhost:8080/"
        },
        "id": "3ffe6795",
        "outputId": "447fabfe-d7f8-4d8e-d321-0e4f29231ab0"
      },
      "outputs": [
        {
          "output_type": "stream",
          "name": "stdout",
          "text": [
            "Number of data: 346768\n",
            "fairfax says higher tax hits first half earningsbank of france sells 1.6 billion francs crh tapbrito\n"
          ]
        }
      ],
      "source": [
        "# improve punctuation\n",
        "data = data.replace('\\n', '').replace('\\r', '').replace('\\ufeff', '')\n",
        "print('Number of data: {}'.format(len(data)))\n",
        "print(data[:100])"
      ]
    },
    {
      "cell_type": "code",
      "execution_count": 103,
      "id": "CNRiSJsMtwQu",
      "metadata": {
        "colab": {
          "base_uri": "https://localhost:8080/"
        },
        "id": "CNRiSJsMtwQu",
        "outputId": "acfaa130-f169-49d4-c0c2-9fb022f1ba6d"
      },
      "outputs": [
        {
          "output_type": "stream",
          "name": "stdout",
          "text": [
            "fairfax says higher tax hits first half earningsbank of france sells 1 6 billion francs crh tapbrito\n"
          ]
        }
      ],
      "source": [
        "# map punctuation to space\n",
        "translator = str.maketrans(string.punctuation, ' '*len(string.punctuation))\n",
        "data = data.translate(translator)\n",
        "print(data[:100])"
      ]
    },
    {
      "cell_type": "code",
      "execution_count": 104,
      "id": "225b3c6b",
      "metadata": {
        "colab": {
          "base_uri": "https://localhost:8080/"
        },
        "id": "225b3c6b",
        "outputId": "ed0b55e5-54cd-43f5-c920-e0ad75e99880"
      },
      "outputs": [
        {
          "output_type": "stream",
          "name": "stdout",
          "text": [
            "51500\n"
          ]
        },
        {
          "output_type": "execute_result",
          "data": {
            "text/plain": [
              "[2236, 12, 113, 64, 934]"
            ]
          },
          "metadata": {},
          "execution_count": 104
        }
      ],
      "source": [
        "# integer encode text\n",
        "tokenizer = Tokenizer()\n",
        "tokenizer.fit_on_texts([data])\n",
        "encoded_data = tokenizer.texts_to_sequences([data])[0]\n",
        "print(len(encoded_data))\n",
        "encoded_data[:5]"
      ]
    },
    {
      "cell_type": "code",
      "execution_count": 105,
      "id": "cff5b658",
      "metadata": {
        "colab": {
          "base_uri": "https://localhost:8080/"
        },
        "id": "cff5b658",
        "outputId": "aa74dfb1-2ed0-45a4-c8d1-8a4e8996faf4"
      },
      "outputs": [
        {
          "output_type": "stream",
          "name": "stdout",
          "text": [
            "Vocabulary Size: 14409\n"
          ]
        }
      ],
      "source": [
        "# determine the vocabulary size\n",
        "# unique_words = tokenizer.word_index\n",
        "unique_words = np.unique(encoded_data)\n",
        "vocab_size = len(unique_words) + 1  # 0 is reserved for padding so that's why we added 1\n",
        "unique_word_index = dict((c, i) for i, c in enumerate(unique_words))\n",
        "print('Vocabulary Size: %d' % vocab_size)"
      ]
    },
    {
      "cell_type": "markdown",
      "id": "PYLR_W62b3lm",
      "metadata": {
        "id": "PYLR_W62b3lm"
      },
      "source": [
        "**We need to create sequences of words to fit the model.**"
      ]
    },
    {
      "cell_type": "code",
      "execution_count": 106,
      "id": "858f3ef5",
      "metadata": {
        "colab": {
          "base_uri": "https://localhost:8080/"
        },
        "id": "858f3ef5",
        "outputId": "149f5b87-9440-49f2-d207-a02a52bef277"
      },
      "outputs": [
        {
          "output_type": "stream",
          "name": "stdout",
          "text": [
            "[12, 113, 64, 934, 134]\n",
            "470\n"
          ]
        }
      ],
      "source": [
        "# create word -> word sequences\n",
        "WORD_LENGTH = 5\n",
        "prev_words = []\n",
        "next_words = []\n",
        "for i in range(1, len(encoded_data) - WORD_LENGTH):\n",
        "    prev_words.append(encoded_data[i:i + WORD_LENGTH])\n",
        "    next_words.append(encoded_data[i + WORD_LENGTH])\n",
        "print(prev_words[0])\n",
        "print(next_words[0])"
      ]
    },
    {
      "cell_type": "code",
      "execution_count": 107,
      "id": "uiJwfjRM1WYf",
      "metadata": {
        "colab": {
          "base_uri": "https://localhost:8080/"
        },
        "id": "uiJwfjRM1WYf",
        "outputId": "74c799c2-4b6a-40aa-dab8-8012935cd39c"
      },
      "outputs": [
        {
          "output_type": "stream",
          "name": "stdout",
          "text": [
            "Total Sequences: 51494\n"
          ]
        }
      ],
      "source": [
        "# Print the size of the sequence\n",
        "print('Total Sequences: %d' % len(prev_words))"
      ]
    },
    {
      "cell_type": "code",
      "execution_count": 108,
      "id": "MNb-LdgdcqSZ",
      "metadata": {
        "id": "MNb-LdgdcqSZ"
      },
      "outputs": [],
      "source": [
        "# list(len(prev_words)[:5]) # [input, output]"
      ]
    },
    {
      "cell_type": "markdown",
      "id": "kMClupvlcdWq",
      "metadata": {
        "id": "kMClupvlcdWq"
      },
      "source": [
        "\n",
        "\n",
        "**We can then split the sequences into input (X) and output elements (y)**\n",
        "\n"
      ]
    },
    {
      "cell_type": "code",
      "execution_count": 109,
      "id": "f0fb1be0",
      "metadata": {
        "id": "f0fb1be0"
      },
      "outputs": [],
      "source": [
        "# split into X and y elements\n",
        "X = prev_words\n",
        "X = np.array(X)\n",
        "Y = next_words\n",
        "Y = np.array(Y)\n",
        "\n",
        "# X = np.zeros((len(prev_words), WORD_LENGTH, vocab_size), dtype=bool)\n",
        "# Y = np.zeros((len(next_words), vocab_size), dtype=bool)"
      ]
    },
    {
      "cell_type": "code",
      "execution_count": 110,
      "id": "6f323b68",
      "metadata": {
        "colab": {
          "base_uri": "https://localhost:8080/"
        },
        "id": "6f323b68",
        "outputId": "99dd6923-8b61-40dc-f2fa-cbe9acbaa0bb"
      },
      "outputs": [
        {
          "output_type": "stream",
          "name": "stdout",
          "text": [
            "[[  12  113   64  934  134]\n",
            " [ 113   64  934  134  470]\n",
            " [  64  934  134  470 3708]\n",
            " [ 934  134  470 3708    8]\n",
            " [ 134  470 3708    8  387]]\n",
            "[ 470 3708    8  387   35]\n"
          ]
        }
      ],
      "source": [
        "print(X[:5])\n",
        "print(Y[:5])"
      ]
    },
    {
      "cell_type": "code",
      "execution_count": 111,
      "id": "101d961d",
      "metadata": {
        "id": "101d961d",
        "colab": {
          "base_uri": "https://localhost:8080/"
        },
        "outputId": "c879c2c4-b579-4b48-b51f-772b4fb32827"
      },
      "outputs": [
        {
          "output_type": "execute_result",
          "data": {
            "text/plain": [
              "array([[0., 0., 0., ..., 0., 0., 0.],\n",
              "       [0., 0., 0., ..., 0., 0., 0.],\n",
              "       [0., 0., 0., ..., 0., 0., 0.],\n",
              "       [0., 0., 0., ..., 0., 0., 0.],\n",
              "       [0., 0., 0., ..., 0., 0., 0.]], dtype=float32)"
            ]
          },
          "metadata": {},
          "execution_count": 111
        }
      ],
      "source": [
        "# one hot encode outputs\n",
        "Y = to_categorical(Y, num_classes=vocab_size)\n",
        "# define model\n",
        "Y[:5]"
      ]
    },
    {
      "cell_type": "code",
      "execution_count": 112,
      "id": "ALNxgolmIFBD",
      "metadata": {
        "colab": {
          "base_uri": "https://localhost:8080/"
        },
        "id": "ALNxgolmIFBD",
        "outputId": "6a0b1e11-e23c-42ec-a0f0-2e6ae2001492"
      },
      "outputs": [
        {
          "output_type": "execute_result",
          "data": {
            "text/plain": [
              "(51494, 14409)"
            ]
          },
          "metadata": {},
          "execution_count": 112
        }
      ],
      "source": [
        "X.shape\n",
        "Y.shape"
      ]
    },
    {
      "cell_type": "markdown",
      "id": "9-SgDZVKd_IL",
      "metadata": {
        "id": "9-SgDZVKd_IL"
      },
      "source": [
        "**Build the model**"
      ]
    },
    {
      "cell_type": "code",
      "execution_count": 113,
      "id": "b459da0b",
      "metadata": {
        "colab": {
          "base_uri": "https://localhost:8080/"
        },
        "id": "b459da0b",
        "outputId": "6c8dbd91-68e6-4c4e-f680-5a9bace10c69"
      },
      "outputs": [
        {
          "output_type": "stream",
          "name": "stdout",
          "text": [
            "Model: \"sequential_3\"\n",
            "_________________________________________________________________\n",
            " Layer (type)                Output Shape              Param #   \n",
            "=================================================================\n",
            " embedding_3 (Embedding)     (None, 5, 5)              72045     \n",
            "                                                                 \n",
            " lstm_5 (LSTM)               (None, 128)               68608     \n",
            "                                                                 \n",
            " dense_3 (Dense)             (None, 14409)             1858761   \n",
            "                                                                 \n",
            "=================================================================\n",
            "Total params: 1,999,414\n",
            "Trainable params: 1,999,414\n",
            "Non-trainable params: 0\n",
            "_________________________________________________________________\n",
            "None\n"
          ]
        }
      ],
      "source": [
        "model = Sequential()\n",
        "model.add(Embedding(vocab_size, 5, input_length=5)) # original: 5\n",
        "model.add(LSTM(128))\n",
        "model.add(Dense(vocab_size, activation='softmax'))\n",
        "print(model.summary())"
      ]
    },
    {
      "cell_type": "markdown",
      "id": "F1eNfS9cebdM",
      "metadata": {
        "id": "F1eNfS9cebdM"
      },
      "source": [
        "**Train the model**"
      ]
    },
    {
      "cell_type": "code",
      "execution_count": 114,
      "id": "Pjty_axoePeu",
      "metadata": {
        "colab": {
          "base_uri": "https://localhost:8080/"
        },
        "id": "Pjty_axoePeu",
        "outputId": "79a3e242-19e2-424b-c937-23432cd79dc6"
      },
      "outputs": [
        {
          "output_type": "stream",
          "name": "stdout",
          "text": [
            "Epoch 1/20\n",
            "383/383 [==============================] - 30s 74ms/step - loss: 8.4126 - accuracy: 0.0287 - val_loss: 8.4099 - val_accuracy: 0.0276\n",
            "Epoch 2/20\n",
            "383/383 [==============================] - 28s 72ms/step - loss: 7.9192 - accuracy: 0.0291 - val_loss: 8.5514 - val_accuracy: 0.0276\n",
            "Epoch 3/20\n",
            "383/383 [==============================] - 29s 77ms/step - loss: 7.7824 - accuracy: 0.0297 - val_loss: 8.6583 - val_accuracy: 0.0276\n",
            "Epoch 4/20\n",
            "383/383 [==============================] - 27s 71ms/step - loss: 7.6598 - accuracy: 0.0383 - val_loss: 8.7326 - val_accuracy: 0.0412\n",
            "Epoch 5/20\n",
            "383/383 [==============================] - 27s 70ms/step - loss: 7.5058 - accuracy: 0.0464 - val_loss: 8.6136 - val_accuracy: 0.0485\n",
            "Epoch 6/20\n",
            "383/383 [==============================] - 28s 72ms/step - loss: 7.3267 - accuracy: 0.0527 - val_loss: 8.5709 - val_accuracy: 0.0548\n",
            "Epoch 7/20\n",
            "383/383 [==============================] - 27s 70ms/step - loss: 7.1505 - accuracy: 0.0584 - val_loss: 8.7715 - val_accuracy: 0.0532\n",
            "Epoch 8/20\n",
            "383/383 [==============================] - 28s 73ms/step - loss: 6.9843 - accuracy: 0.0633 - val_loss: 8.9698 - val_accuracy: 0.0551\n",
            "Epoch 9/20\n",
            "383/383 [==============================] - 28s 73ms/step - loss: 6.8156 - accuracy: 0.0684 - val_loss: 9.1318 - val_accuracy: 0.0555\n",
            "Epoch 10/20\n",
            "383/383 [==============================] - 27s 72ms/step - loss: 6.6428 - accuracy: 0.0715 - val_loss: 9.2346 - val_accuracy: 0.0501\n",
            "Epoch 11/20\n",
            "383/383 [==============================] - 28s 74ms/step - loss: 6.4712 - accuracy: 0.0760 - val_loss: 9.3396 - val_accuracy: 0.0485\n",
            "Epoch 12/20\n",
            "383/383 [==============================] - 29s 76ms/step - loss: 6.2998 - accuracy: 0.0796 - val_loss: 9.4761 - val_accuracy: 0.0489\n",
            "Epoch 13/20\n",
            "383/383 [==============================] - 27s 70ms/step - loss: 6.1327 - accuracy: 0.0838 - val_loss: 9.5695 - val_accuracy: 0.0513\n",
            "Epoch 14/20\n",
            "383/383 [==============================] - 27s 71ms/step - loss: 5.9648 - accuracy: 0.0875 - val_loss: 9.6738 - val_accuracy: 0.0501\n",
            "Epoch 15/20\n",
            "383/383 [==============================] - 27s 72ms/step - loss: 5.7992 - accuracy: 0.0922 - val_loss: 9.8073 - val_accuracy: 0.0470\n",
            "Epoch 16/20\n",
            "383/383 [==============================] - 27s 71ms/step - loss: 5.6374 - accuracy: 0.0974 - val_loss: 9.8983 - val_accuracy: 0.0489\n",
            "Epoch 17/20\n",
            "383/383 [==============================] - 27s 70ms/step - loss: 5.4779 - accuracy: 0.1034 - val_loss: 10.0086 - val_accuracy: 0.0450\n",
            "Epoch 18/20\n",
            "383/383 [==============================] - 27s 71ms/step - loss: 5.3252 - accuracy: 0.1102 - val_loss: 10.1174 - val_accuracy: 0.0466\n",
            "Epoch 19/20\n",
            "383/383 [==============================] - 28s 73ms/step - loss: 5.1709 - accuracy: 0.1186 - val_loss: 10.2340 - val_accuracy: 0.0482\n",
            "Epoch 20/20\n",
            "383/383 [==============================] - 27s 71ms/step - loss: 5.0222 - accuracy: 0.1285 - val_loss: 10.3383 - val_accuracy: 0.0466\n"
          ]
        }
      ],
      "source": [
        "# fit network\n",
        "# optimizer = RMSprop(learning_rate=0.01) # deactivated optimizer\n",
        "\n",
        "# compile network\n",
        "model.compile(loss='categorical_crossentropy', optimizer='adam', metrics=['accuracy'])\n",
        "history = model.fit(X, Y, validation_split=0.05, batch_size=128, epochs=20, shuffle=True).history"
      ]
    },
    {
      "cell_type": "code",
      "execution_count": 115,
      "id": "a54d5fe2",
      "metadata": {
        "id": "a54d5fe2"
      },
      "outputs": [],
      "source": [
        "# After successful training, we will save the trained model and just load it back as needed.\n",
        "model.save('keras_next_word_model'+str(name)+'.h5')\n",
        "pickle.dump(history, open('history'+str(name)+'.p', 'wb'))"
      ]
    },
    {
      "cell_type": "code",
      "execution_count": 116,
      "id": "41742bd6",
      "metadata": {
        "id": "41742bd6"
      },
      "outputs": [],
      "source": [
        "# Loading back the saved weights and history\n",
        "model = load_model('keras_next_word_model'+str(name)+'.h5')\n",
        "history = pickle.load(open('history'+str(name)+'.p', 'rb'))"
      ]
    },
    {
      "cell_type": "code",
      "execution_count": 117,
      "id": "743c22c6",
      "metadata": {
        "colab": {
          "base_uri": "https://localhost:8080/",
          "height": 295
        },
        "id": "743c22c6",
        "outputId": "bf1e5f07-730f-4c33-dd03-7984ae0f7efb"
      },
      "outputs": [
        {
          "output_type": "display_data",
          "data": {
            "text/plain": [
              "<Figure size 432x288 with 1 Axes>"
            ],
            "image/png": "[encoded data removed]"
          },
          "metadata": {
            "needs_background": "light"
          }
        }
      ],
      "source": [
        "# Evaluation (accuracy)\n",
        "plt.plot(history['accuracy'])\n",
        "plt.plot(history['val_accuracy'])\n",
        "plt.title('model accuracy of '+str(name))\n",
        "plt.ylabel('accuracy')\n",
        "plt.xlabel('epoch')\n",
        "plt.legend(['train', 'test'], loc= 'upper left')\n",
        "\n",
        "plt.savefig(\"01.Accuracy\"+str(name)+\".png\")"
      ]
    },
    {
      "cell_type": "code",
      "execution_count": 118,
      "id": "545e54d5",
      "metadata": {
        "colab": {
          "base_uri": "https://localhost:8080/",
          "height": 295
        },
        "id": "545e54d5",
        "outputId": "1aecafec-cf6c-4f53-9788-c0cb72525c6e"
      },
      "outputs": [
        {
          "output_type": "display_data",
          "data": {
            "text/plain": [
              "<Figure size 432x288 with 1 Axes>"
            ],
            "image/png": "[encoded data removed]"
          },
          "metadata": {
            "needs_background": "light"
          }
        }
      ],
      "source": [
        "# Evaluation (loss)\n",
        "plt.plot(history['loss'])\n",
        "plt.plot(history['val_loss'])\n",
        "plt.title('model loss of ' +str(name))\n",
        "plt.ylabel('loss')\n",
        "plt.xlabel('epoch')\n",
        "plt.legend(['train', 'test'], loc= 'upper left')\n",
        "\n",
        "plt.savefig(\"02.Loss\"+str(name)+\".png\")"
      ]
    },
    {
      "cell_type": "code",
      "execution_count": 120,
      "id": "6c86be3e",
      "metadata": {
        "colab": {
          "base_uri": "https://localhost:8080/"
        },
        "id": "6c86be3e",
        "outputId": "337fe888-0dfb-40fd-ae0d-948c265e5554"
      },
      "outputs": [
        {
          "output_type": "stream",
          "name": "stdout",
          "text": [
            "1/1 [==============================] - 0s 97ms/step\n",
            "continental air february  in\n"
          ]
        }
      ],
      "source": [
        "## 10 TITLE EXAMPLES FOR EVALUATION:\n",
        "\"\"\"\n",
        "'farmers concerned about british sugar ownership'\n",
        "'satellite auction unit march, april bookings up'\n",
        "'winland electronics inc 4th qtr loss'\n",
        "'sapporo breweries issues five year sfr notes'\n",
        "'report due on oil imports and national security'\n",
        "'continental air february load factor falls'\n",
        "'great american issues 15 billion yen eurobond'\n",
        "'paribas shares to be quoted on main paris market'\n",
        "'salomon sells 200 mln stg mortgages-backed notes'\n",
        "'opec says february output under ceiling'\n",
        "\"\"\"\n",
        "\n",
        "max_sequence_len=6\n",
        "seed_text = \"continental air february \"\n",
        "next_words = 1\n",
        "  \n",
        "for _ in range(next_words):\n",
        "    token_list = tokenizer.texts_to_sequences([seed_text])[0]\n",
        "    token_list = pad_sequences([token_list], maxlen=max_sequence_len-1, padding='pre')\n",
        "    #predicted = model.predict_classes(token_list, verbose=0)\n",
        "    predict_x=model.predict(token_list) \n",
        "    predicted=np.argmax(predict_x,axis=1)\n",
        "    output_word = \"\"\n",
        "    for word, index in tokenizer.word_index.items():\n",
        "        if index == predicted:\n",
        "            output_word = word\n",
        "            break\n",
        "    seed_text += \" \" + output_word\n",
        "print(seed_text)"
      ]
    }
  ],
  "metadata": {
    "accelerator": "GPU",
    "colab": {
      "provenance": []
    },
    "gpuClass": "standard",
    "kernelspec": {
      "display_name": "Python 3 (ipykernel)",
      "language": "python",
      "name": "python3"
    },
    "language_info": {
      "codemirror_mode": {
        "name": "ipython",
        "version": 3
      },
      "file_extension": ".py",
      "mimetype": "text/x-python",
      "name": "python",
      "nbconvert_exporter": "python",
      "pygments_lexer": "ipython3",
      "version": "3.9.7"
    }
  },
  "nbformat": 4,
  "nbformat_minor": 5
}