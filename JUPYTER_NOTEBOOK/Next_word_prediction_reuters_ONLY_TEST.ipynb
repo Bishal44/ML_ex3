{
  "cells": [
    {
      "cell_type": "code",
      "execution_count": 36,
      "id": "50eb1355",
      "metadata": {
        "id": "50eb1355"
      },
      "outputs": [],
      "source": [
        "import os\n",
        "from bs4 import BeautifulSoup\n",
        "import string\n",
        "from nltk.tokenize import RegexpTokenizer\n",
        "from tensorflow.keras.preprocessing.text import Tokenizer\n",
        "from tensorflow.keras.layers import Embedding, LSTM, Dense\n",
        "from tensorflow.keras.models import Sequential, load_model\n",
        "from tensorflow.keras.models import load_model\n",
        "from keras.layers.core import Dense, Activation\n",
        "from tensorflow.keras.utils import to_categorical\n",
        "from tensorflow.keras.optimizers import Adam\n",
        "from keras.utils import to_categorical\n",
        "import pickle\n",
        "from keras.optimizers import RMSprop\n",
        "import numpy as np\n",
        "from numpy import array\n",
        "import heapq"
      ]
    },
    {
      "cell_type": "markdown",
      "id": "nXwmMiUHVmN1",
      "metadata": {
        "id": "nXwmMiUHVmN1"
      },
      "source": [
        "**Import data**"
      ]
    },
    {
      "cell_type": "code",
      "execution_count": 37,
      "id": "b0f4c486",
      "metadata": {
        "id": "b0f4c486"
      },
      "outputs": [],
      "source": [
        "documents = [] # import documents one-by-one from the source folder\n",
        "for file in os.listdir(\"sample_data/\"): # original: \"reuters_data/\"\n",
        "    if file.endswith('.sgm'): # it is important for GoogleColab\n",
        "        filename = os.path.join(\"sample_data\", file) # original: \"reuters_data\"\n",
        "        f = open(filename, 'r', encoding='utf-8', errors='ignore')\n",
        "        dataFile = f.read().lower()\n",
        "        \n",
        "        soup = BeautifulSoup(dataFile, 'html.parser')\n",
        "        contents = soup.findAll('title') # extract the \"title\" part of the document\n",
        "        \n",
        "        for content in contents:\n",
        "            documents.append(content.text)"
      ]
    },
    {
      "cell_type": "code",
      "execution_count": 38,
      "id": "jwFHnhJ6YrPG",
      "metadata": {
        "colab": {
          "base_uri": "https://localhost:8080/"
        },
        "id": "jwFHnhJ6YrPG",
        "outputId": "4bb598fb-b578-4f66-b396-b6b40be0a11d"
      },
      "outputs": [
        {
          "output_type": "stream",
          "name": "stdout",
          "text": [
            "Number of documents: 7958\n"
          ]
        }
      ],
      "source": [
        "print('Number of documents: {}'.format(len(documents))) # number of documents"
      ]
    },
    {
      "cell_type": "code",
      "execution_count": 39,
      "id": "BwkB00Xzx-vT",
      "metadata": {
        "colab": {
          "base_uri": "https://localhost:8080/"
        },
        "id": "BwkB00Xzx-vT",
        "outputId": "5d6dbfb6-f10a-4feb-9595-4c4eee11ac51"
      },
      "outputs": [
        {
          "output_type": "stream",
          "name": "stdout",
          "text": [
            "Number of documents: 7693\n"
          ]
        }
      ],
      "source": [
        "# Remove duplicated strings from the list of strings\n",
        "documents = [i for n, i in enumerate(documents) if i not in documents[:n]]\n",
        "print('Number of documents: {}'.format(len(documents)))"
      ]
    },
    {
      "cell_type": "code",
      "execution_count": 40,
      "id": "2f9549e3",
      "metadata": {
        "colab": {
          "base_uri": "https://localhost:8080/"
        },
        "id": "2f9549e3",
        "outputId": "1151a216-74c1-4b06-82d5-367068f36134"
      },
      "outputs": [
        {
          "output_type": "execute_result",
          "data": {
            "text/plain": [
              "['jaguar sees strong growth in new model sales',\n",
              " 'occidental petroleum common stock offering raised to 36 mln shares\\n',\n",
              " 'ccc accepts bonus bid on wheat flour to iraq',\n",
              " 'diamond shamrock raises crude posted prices one dlr, effective march 4, wti now 17.00 dlrs/bbl\\n',\n",
              " 'nord resources corp <nrd> 4th qtr net',\n",
              " 'no quake damage at chuquicamata - mine spokesman',\n",
              " 'orbit increases oil and gas reserve values',\n",
              " 'ccc accepts bonus bid on semolina to egypt',\n",
              " 'french cge group likely to be privatised in may',\n",
              " 'five groups apply to buy french telephone group']"
            ]
          },
          "metadata": {},
          "execution_count": 40
        }
      ],
      "source": [
        "documents[:10]"
      ]
    },
    {
      "cell_type": "markdown",
      "id": "fRsdiodgY4er",
      "metadata": {
        "id": "fRsdiodgY4er"
      },
      "source": [
        "**Join the documents**"
      ]
    },
    {
      "cell_type": "code",
      "execution_count": 41,
      "id": "9e5894ab",
      "metadata": {
        "id": "9e5894ab"
      },
      "outputs": [],
      "source": [
        "data = \"\"\n",
        "for d in documents:\n",
        "    data += d"
      ]
    },
    {
      "cell_type": "code",
      "execution_count": 42,
      "id": "a3a635c4",
      "metadata": {
        "colab": {
          "base_uri": "https://localhost:8080/"
        },
        "id": "a3a635c4",
        "outputId": "538a3c26-0d1d-468e-82f9-9fe45ca33a97"
      },
      "outputs": [
        {
          "output_type": "stream",
          "name": "stdout",
          "text": [
            "Number of data: 347403\n"
          ]
        }
      ],
      "source": [
        "print('Number of data: {}'.format(len(data)))"
      ]
    },
    {
      "cell_type": "code",
      "execution_count": 43,
      "id": "3ffe6795",
      "metadata": {
        "colab": {
          "base_uri": "https://localhost:8080/"
        },
        "id": "3ffe6795",
        "outputId": "98141514-b6dd-4d75-b5cc-742512f318d8"
      },
      "outputs": [
        {
          "output_type": "stream",
          "name": "stdout",
          "text": [
            "Number of data: 346768\n",
            "jaguar sees strong growth in new model salesoccidental petroleum common stock offering raised to 36 \n"
          ]
        }
      ],
      "source": [
        "# improve punctuation\n",
        "data = data.replace('\\n', '').replace('\\r', '').replace('\\ufeff', '')\n",
        "print('Number of data: {}'.format(len(data)))\n",
        "print(data[:100])"
      ]
    },
    {
      "cell_type": "code",
      "execution_count": 44,
      "id": "CNRiSJsMtwQu",
      "metadata": {
        "colab": {
          "base_uri": "https://localhost:8080/"
        },
        "id": "CNRiSJsMtwQu",
        "outputId": "95194c8f-0126-44c1-ae52-0fcf233385e8"
      },
      "outputs": [
        {
          "output_type": "stream",
          "name": "stdout",
          "text": [
            "jaguar sees strong growth in new model salesoccidental petroleum common stock offering raised to 36 \n"
          ]
        }
      ],
      "source": [
        "translator = str.maketrans(string.punctuation, ' '*len(string.punctuation)) #map punctuation to space\n",
        "data = data.translate(translator)\n",
        "print(data[:100])"
      ]
    },
    {
      "cell_type": "code",
      "execution_count": 45,
      "id": "225b3c6b",
      "metadata": {
        "colab": {
          "base_uri": "https://localhost:8080/"
        },
        "id": "225b3c6b",
        "outputId": "7ba25de9-aa59-476c-ec3b-f1b41a9fc82c"
      },
      "outputs": [
        {
          "output_type": "stream",
          "name": "stdout",
          "text": [
            "51500\n"
          ]
        },
        {
          "output_type": "execute_result",
          "data": {
            "text/plain": [
              "[3706, 19, 497, 157, 3]"
            ]
          },
          "metadata": {},
          "execution_count": 45
        }
      ],
      "source": [
        "# integer encode text\n",
        "tokenizer = Tokenizer()\n",
        "tokenizer.fit_on_texts([data])\n",
        "encoded_data = tokenizer.texts_to_sequences([data])[0]\n",
        "print(len(encoded_data))\n",
        "encoded_data[:5]"
      ]
    },
    {
      "cell_type": "code",
      "execution_count": 46,
      "id": "cff5b658",
      "metadata": {
        "colab": {
          "base_uri": "https://localhost:8080/"
        },
        "id": "cff5b658",
        "outputId": "2fedda60-1309-40a1-8ec8-58fd12448669"
      },
      "outputs": [
        {
          "output_type": "stream",
          "name": "stdout",
          "text": [
            "Vocabulary Size: 14406\n"
          ]
        }
      ],
      "source": [
        "# determine the vocabulary size\n",
        "# unique_words = tokenizer.word_index\n",
        "unique_words = np.unique(encoded_data)\n",
        "vocab_size = len(unique_words) + 1  # 0 is reserved for padding so that's why we added 1\n",
        "unique_word_index = dict((c, i) for i, c in enumerate(unique_words))\n",
        "print('Vocabulary Size: %d' % vocab_size)"
      ]
    },
    {
      "cell_type": "markdown",
      "id": "PYLR_W62b3lm",
      "metadata": {
        "id": "PYLR_W62b3lm"
      },
      "source": [
        "**Next, we need to create sequences of words to fit the model with one word as input and one word as output.**"
      ]
    },
    {
      "cell_type": "code",
      "execution_count": 47,
      "id": "858f3ef5",
      "metadata": {
        "colab": {
          "base_uri": "https://localhost:8080/"
        },
        "id": "858f3ef5",
        "outputId": "b858f641-c6bb-4e53-95c4-6c9ad602dfb0"
      },
      "outputs": [
        {
          "output_type": "stream",
          "name": "stdout",
          "text": [
            "[19, 497, 157, 3, 21]\n",
            "1644\n"
          ]
        }
      ],
      "source": [
        "# create word -> word sequences\n",
        "WORD_LENGTH = 5\n",
        "prev_words = []\n",
        "next_words = []\n",
        "for i in range(1, len(encoded_data) - WORD_LENGTH):\n",
        "    prev_words.append(encoded_data[i:i + WORD_LENGTH])\n",
        "    next_words.append(encoded_data[i + WORD_LENGTH])\n",
        "print(prev_words[0])\n",
        "print(next_words[0])"
      ]
    },
    {
      "cell_type": "code",
      "execution_count": 48,
      "id": "uiJwfjRM1WYf",
      "metadata": {
        "colab": {
          "base_uri": "https://localhost:8080/"
        },
        "id": "uiJwfjRM1WYf",
        "outputId": "a766d02b-f7ea-4f97-922b-adaa4f5c656d"
      },
      "outputs": [
        {
          "output_type": "stream",
          "name": "stdout",
          "text": [
            "Total Sequences: 51494\n"
          ]
        }
      ],
      "source": [
        "print('Total Sequences: %d' % len(prev_words))"
      ]
    },
    {
      "cell_type": "code",
      "execution_count": 49,
      "id": "MNb-LdgdcqSZ",
      "metadata": {
        "id": "MNb-LdgdcqSZ"
      },
      "outputs": [],
      "source": [
        "# list(len(prev_words)[:5]) # [input, output]"
      ]
    },
    {
      "cell_type": "markdown",
      "id": "kMClupvlcdWq",
      "metadata": {
        "id": "kMClupvlcdWq"
      },
      "source": [
        "\n",
        "\n",
        "**We can then split the sequences into input (X) and output elements (y)**\n",
        "\n"
      ]
    },
    {
      "cell_type": "code",
      "execution_count": 50,
      "id": "f0fb1be0",
      "metadata": {
        "id": "f0fb1be0"
      },
      "outputs": [],
      "source": [
        "# split into X and y elements\n",
        "X = prev_words\n",
        "X = np.array(X)\n",
        "Y = next_words\n",
        "Y = np.array(Y)\n",
        "\n",
        "# X = np.zeros((len(prev_words), WORD_LENGTH, vocab_size), dtype=bool)\n",
        "# Y = np.zeros((len(next_words), vocab_size), dtype=bool)"
      ]
    },
    {
      "cell_type": "code",
      "execution_count": 51,
      "id": "6f323b68",
      "metadata": {
        "colab": {
          "base_uri": "https://localhost:8080/"
        },
        "id": "6f323b68",
        "outputId": "29634b58-1a09-44f4-b9be-efa0aa011844"
      },
      "outputs": [
        {
          "output_type": "stream",
          "name": "stdout",
          "text": [
            "[[  19  497  157    3   21]\n",
            " [ 497  157    3   21 1644]\n",
            " [ 157    3   21 1644 3707]\n",
            " [   3   21 1644 3707  339]\n",
            " [  21 1644 3707  339  572]]\n",
            "[1644 3707  339  572   37]\n"
          ]
        }
      ],
      "source": [
        "print(X[:5])\n",
        "print(Y[:5])"
      ]
    },
    {
      "cell_type": "code",
      "execution_count": 52,
      "id": "101d961d",
      "metadata": {
        "id": "101d961d",
        "outputId": "8aaa2a69-373e-47ed-93b3-ef4b07b16269",
        "colab": {
          "base_uri": "https://localhost:8080/"
        }
      },
      "outputs": [
        {
          "output_type": "execute_result",
          "data": {
            "text/plain": [
              "array([[0., 0., 0., ..., 0., 0., 0.],\n",
              "       [0., 0., 0., ..., 0., 0., 0.],\n",
              "       [0., 0., 0., ..., 0., 0., 0.],\n",
              "       [0., 0., 0., ..., 0., 0., 0.],\n",
              "       [0., 0., 0., ..., 0., 0., 0.]], dtype=float32)"
            ]
          },
          "metadata": {},
          "execution_count": 52
        }
      ],
      "source": [
        "# one hot encode outputs\n",
        "Y = to_categorical(Y, num_classes=vocab_size)\n",
        "# define model\n",
        "Y[:5]"
      ]
    },
    {
      "cell_type": "code",
      "execution_count": 53,
      "id": "ALNxgolmIFBD",
      "metadata": {
        "colab": {
          "base_uri": "https://localhost:8080/"
        },
        "id": "ALNxgolmIFBD",
        "outputId": "3f731940-3653-46a9-a2bc-b5aec0589d42"
      },
      "outputs": [
        {
          "output_type": "execute_result",
          "data": {
            "text/plain": [
              "(51494, 14406)"
            ]
          },
          "metadata": {},
          "execution_count": 53
        }
      ],
      "source": [
        "X.shape\n",
        "Y.shape"
      ]
    },
    {
      "cell_type": "markdown",
      "id": "9-SgDZVKd_IL",
      "metadata": {
        "id": "9-SgDZVKd_IL"
      },
      "source": [
        "**Build the model**"
      ]
    },
    {
      "cell_type": "code",
      "source": [
        "model = Sequential()\n",
        "model.add(Embedding(vocab_size, 5, input_length=5)) # original: 5\n",
        "model.add(LSTM(128))\n",
        "# model.add(LSTM(128, input_shape=(WORD_LENGTH, vocab_size)))\n",
        "model.add(Dense(vocab_size, activation='softmax'))\n",
        "print(model.summary())"
      ],
      "metadata": {
        "id": "ruajFEAAt5zP"
      },
      "id": "ruajFEAAt5zP",
      "execution_count": null,
      "outputs": []
    },
    {
      "cell_type": "markdown",
      "id": "F1eNfS9cebdM",
      "metadata": {
        "id": "F1eNfS9cebdM"
      },
      "source": [
        "**Train the model**"
      ]
    },
    {
      "cell_type": "code",
      "execution_count": 65,
      "id": "Pjty_axoePeu",
      "metadata": {
        "colab": {
          "base_uri": "https://localhost:8080/"
        },
        "id": "Pjty_axoePeu",
        "outputId": "33508d92-d49f-41ad-af56-e48f7173574c"
      },
      "outputs": [
        {
          "output_type": "stream",
          "name": "stdout",
          "text": [
            "Epoch 1/20\n",
            "1610/1610 [==============================] - 19s 10ms/step - loss: 8.3268 - accuracy: 0.0313\n",
            "Epoch 2/20\n",
            "1610/1610 [==============================] - 14s 9ms/step - loss: 7.7089 - accuracy: 0.0491\n",
            "Epoch 3/20\n",
            "1610/1610 [==============================] - 14s 9ms/step - loss: 7.3628 - accuracy: 0.0656\n",
            "Epoch 4/20\n",
            "1610/1610 [==============================] - 14s 9ms/step - loss: 6.9733 - accuracy: 0.0830\n",
            "Epoch 5/20\n",
            "1610/1610 [==============================] - 14s 8ms/step - loss: 6.5383 - accuracy: 0.0965\n",
            "Epoch 6/20\n",
            "1610/1610 [==============================] - 14s 8ms/step - loss: 6.0833 - accuracy: 0.1079\n",
            "Epoch 7/20\n",
            "1610/1610 [==============================] - 14s 9ms/step - loss: 5.6248 - accuracy: 0.1205\n",
            "Epoch 8/20\n",
            "1610/1610 [==============================] - 14s 8ms/step - loss: 5.1737 - accuracy: 0.1381\n",
            "Epoch 9/20\n",
            "1610/1610 [==============================] - 14s 9ms/step - loss: 4.7487 - accuracy: 0.1672\n",
            "Epoch 10/20\n",
            "1610/1610 [==============================] - 14s 8ms/step - loss: 4.3586 - accuracy: 0.2108\n",
            "Epoch 11/20\n",
            "1610/1610 [==============================] - 13s 8ms/step - loss: 4.0066 - accuracy: 0.2632\n",
            "Epoch 12/20\n",
            "1610/1610 [==============================] - 14s 9ms/step - loss: 3.6918 - accuracy: 0.3156\n",
            "Epoch 13/20\n",
            "1610/1610 [==============================] - 14s 8ms/step - loss: 3.4040 - accuracy: 0.3622\n",
            "Epoch 14/20\n",
            "1610/1610 [==============================] - 13s 8ms/step - loss: 3.1488 - accuracy: 0.4031\n",
            "Epoch 15/20\n",
            "1610/1610 [==============================] - 13s 8ms/step - loss: 2.9210 - accuracy: 0.4389\n",
            "Epoch 16/20\n",
            "1610/1610 [==============================] - 13s 8ms/step - loss: 2.7178 - accuracy: 0.4735\n",
            "Epoch 17/20\n",
            "1610/1610 [==============================] - 14s 8ms/step - loss: 2.5371 - accuracy: 0.5051\n",
            "Epoch 18/20\n",
            "1610/1610 [==============================] - 14s 8ms/step - loss: 2.3705 - accuracy: 0.5281\n",
            "Epoch 19/20\n",
            "1610/1610 [==============================] - 14s 9ms/step - loss: 2.2215 - accuracy: 0.5574\n",
            "Epoch 20/20\n",
            "1610/1610 [==============================] - 14s 9ms/step - loss: 2.0886 - accuracy: 0.5810\n"
          ]
        }
      ],
      "source": [
        "# fit network\n",
        "# optimizer = RMSprop(learning_rate=0.01)\n",
        "\n",
        "# compile network\n",
        "#### since labels are INTEGERS, we need to changed from loss='categorical_crossentropy'!!!\n",
        "#### If you want to provide labels using one-hot representation, please use CategoricalCrossentropy loss.\n",
        "model.compile(loss='categorical_crossentropy', optimizer='adam', metrics=['accuracy']) # optimizer ='adam'\n",
        "history = model.fit(X, Y, epochs=20).history\n",
        "\n",
        "## Alternative versions\n",
        "# history = model.fit(X, Y, validation_split=0.05, batch_size=50, epochs=20, shuffle=True).history\n",
        "# history = model.fit(X, Y, validation_split=0.05, batch_size=50, epochs=20, shuffle=True).history\n",
        "# model.fit(X, Y, epochs=100)\n",
        "# model.fit(X, y, epochs=150, batch_size=64, callbacks=[checkpoint, reduce, tensorboard_Visualization])"
      ]
    },
    {
      "cell_type": "markdown",
      "id": "QxgsBCrwtECi",
      "metadata": {
        "id": "QxgsBCrwtECi"
      },
      "source": [
        "**Save trained model**"
      ]
    },
    {
      "cell_type": "code",
      "execution_count": 66,
      "id": "A2ioJcaGtEN4",
      "metadata": {
        "id": "A2ioJcaGtEN4"
      },
      "outputs": [],
      "source": [
        "# After successful training, we will save the trained model and just load it back as needed.\n",
        "model.save('keras_next_word_model_lstm128_5.h5')\n",
        "pickle.dump(history, open(\"history.p\", \"wb\"))"
      ]
    },
    {
      "cell_type": "markdown",
      "source": [
        "**Import the model for predictions**"
      ],
      "metadata": {
        "id": "fakH5jBpnTPl"
      },
      "id": "fakH5jBpnTPl"
    },
    {
      "cell_type": "code",
      "execution_count": 67,
      "id": "sI9KkPwTL3ee",
      "metadata": {
        "id": "sI9KkPwTL3ee"
      },
      "outputs": [],
      "source": [
        "# Import the model\n",
        "model = load_model('keras_next_word_model_lstm128_5.h5')\n",
        "history = pickle.load(open(\"history.p\", \"rb\"))"
      ]
    },
    {
      "cell_type": "markdown",
      "id": "XsrX16ketfZq",
      "metadata": {
        "id": "XsrX16ketfZq"
      },
      "source": [
        "**Prediction**\n",
        "Using saved model:\n",
        "- we input the sample as a feature vector\n",
        "- we convert the input string to a single feature vector"
      ]
    },
    {
      "cell_type": "code",
      "source": [
        "# Now, we need to predict new words using this model. \n",
        "# To do that we input the sample as a feature vector. \n",
        "# We convert the input string to a single feature vector.\n",
        "\n",
        "def prepare_input(data): # text\n",
        "    x = np.zeros((1, WORD_LENGTH, len(unique_words)))\n",
        "    for t, word in enumerate(text.split()): # text\n",
        "        print(word)\n",
        "        x[0, t, unique_word_index[word]] = 1\n",
        "    return x\n",
        "prepare_input(\"farmers concerned about british sugar ownership\".lower())"
      ],
      "metadata": {
        "id": "JMODQpROndzj",
        "outputId": "c1a9e695-d938-4444-fd30-c250fb81142d",
        "colab": {
          "base_uri": "https://localhost:8080/",
          "height": 341
        }
      },
      "id": "JMODQpROndzj",
      "execution_count": 103,
      "outputs": [
        {
          "output_type": "stream",
          "name": "stdout",
          "text": [
            "[19, 497, 157, 3, 21]\n"
          ]
        },
        {
          "output_type": "error",
          "ename": "TypeError",
          "evalue": "ignored",
          "traceback": [
            "\u001b[0;31m---------------------------------------------------------------------------\u001b[0m",
            "\u001b[0;31mTypeError\u001b[0m                                 Traceback (most recent call last)",
            "\u001b[0;32m<ipython-input-103-b3072fdc267f>\u001b[0m in \u001b[0;36m<module>\u001b[0;34m\u001b[0m\n\u001b[1;32m      9\u001b[0m         \u001b[0mx\u001b[0m\u001b[0;34m[\u001b[0m\u001b[0;36m0\u001b[0m\u001b[0;34m,\u001b[0m \u001b[0mt\u001b[0m\u001b[0;34m,\u001b[0m \u001b[0munique_word_index\u001b[0m\u001b[0;34m[\u001b[0m\u001b[0mnext_words\u001b[0m\u001b[0;34m]\u001b[0m\u001b[0;34m]\u001b[0m \u001b[0;34m=\u001b[0m \u001b[0;36m1\u001b[0m\u001b[0;34m\u001b[0m\u001b[0;34m\u001b[0m\u001b[0m\n\u001b[1;32m     10\u001b[0m     \u001b[0;32mreturn\u001b[0m \u001b[0mx\u001b[0m\u001b[0;34m\u001b[0m\u001b[0;34m\u001b[0m\u001b[0m\n\u001b[0;32m---> 11\u001b[0;31m \u001b[0mprepare_input\u001b[0m\u001b[0;34m(\u001b[0m\u001b[0;34m\"farmers concerned about british sugar ownership\"\u001b[0m\u001b[0;34m.\u001b[0m\u001b[0mlower\u001b[0m\u001b[0;34m(\u001b[0m\u001b[0;34m)\u001b[0m\u001b[0;34m)\u001b[0m\u001b[0;34m\u001b[0m\u001b[0;34m\u001b[0m\u001b[0m\n\u001b[0m",
            "\u001b[0;32m<ipython-input-103-b3072fdc267f>\u001b[0m in \u001b[0;36mprepare_input\u001b[0;34m(data)\u001b[0m\n\u001b[1;32m      7\u001b[0m     \u001b[0;32mfor\u001b[0m \u001b[0mt\u001b[0m\u001b[0;34m,\u001b[0m \u001b[0mword\u001b[0m \u001b[0;32min\u001b[0m \u001b[0menumerate\u001b[0m\u001b[0;34m(\u001b[0m\u001b[0mprev_words\u001b[0m\u001b[0;34m)\u001b[0m\u001b[0;34m:\u001b[0m \u001b[0;31m# text\u001b[0m\u001b[0;34m\u001b[0m\u001b[0;34m\u001b[0m\u001b[0m\n\u001b[1;32m      8\u001b[0m         \u001b[0mprint\u001b[0m\u001b[0;34m(\u001b[0m\u001b[0mword\u001b[0m\u001b[0;34m)\u001b[0m\u001b[0;34m\u001b[0m\u001b[0;34m\u001b[0m\u001b[0m\n\u001b[0;32m----> 9\u001b[0;31m         \u001b[0mx\u001b[0m\u001b[0;34m[\u001b[0m\u001b[0;36m0\u001b[0m\u001b[0;34m,\u001b[0m \u001b[0mt\u001b[0m\u001b[0;34m,\u001b[0m \u001b[0munique_word_index\u001b[0m\u001b[0;34m[\u001b[0m\u001b[0mnext_words\u001b[0m\u001b[0;34m]\u001b[0m\u001b[0;34m]\u001b[0m \u001b[0;34m=\u001b[0m \u001b[0;36m1\u001b[0m\u001b[0;34m\u001b[0m\u001b[0;34m\u001b[0m\u001b[0m\n\u001b[0m\u001b[1;32m     10\u001b[0m     \u001b[0;32mreturn\u001b[0m \u001b[0mx\u001b[0m\u001b[0;34m\u001b[0m\u001b[0;34m\u001b[0m\u001b[0m\n\u001b[1;32m     11\u001b[0m \u001b[0mprepare_input\u001b[0m\u001b[0;34m(\u001b[0m\u001b[0;34m\"farmers concerned about british sugar ownership\"\u001b[0m\u001b[0;34m.\u001b[0m\u001b[0mlower\u001b[0m\u001b[0;34m(\u001b[0m\u001b[0;34m)\u001b[0m\u001b[0;34m)\u001b[0m\u001b[0;34m\u001b[0m\u001b[0;34m\u001b[0m\u001b[0m\n",
            "\u001b[0;31mTypeError\u001b[0m: unhashable type: 'list'"
          ]
        }
      ]
    },
    {
      "cell_type": "code",
      "source": [
        "def prepare_input(text):\n",
        "    x = np.zeros((1, SEQUENCE_LENGTH, len(text)))\n",
        "    for t, char in enumerate(text):\n",
        "        x[0, t, char_indices[char]] = 1\n",
        "    return x"
      ],
      "metadata": {
        "id": "Owr0vgKQowIR"
      },
      "id": "Owr0vgKQowIR",
      "execution_count": 94,
      "outputs": []
    },
    {
      "cell_type": "code",
      "source": [],
      "metadata": {
        "id": "QvwOhlyond4R"
      },
      "id": "QvwOhlyond4R",
      "execution_count": null,
      "outputs": []
    },
    {
      "cell_type": "code",
      "source": [],
      "metadata": {
        "id": "Nj5n_Flsnd9O"
      },
      "id": "Nj5n_Flsnd9O",
      "execution_count": null,
      "outputs": []
    },
    {
      "cell_type": "code",
      "source": [],
      "metadata": {
        "id": "FqAlJHUHneBT"
      },
      "id": "FqAlJHUHneBT",
      "execution_count": null,
      "outputs": []
    },
    {
      "cell_type": "code",
      "source": [],
      "metadata": {
        "id": "pauZviFWneFi"
      },
      "id": "pauZviFWneFi",
      "execution_count": null,
      "outputs": []
    },
    {
      "cell_type": "code",
      "source": [],
      "metadata": {
        "id": "S5kcIqzrneKG"
      },
      "id": "S5kcIqzrneKG",
      "execution_count": null,
      "outputs": []
    },
    {
      "cell_type": "code",
      "source": [],
      "metadata": {
        "id": "_DQgYJMwnePF"
      },
      "id": "_DQgYJMwnePF",
      "execution_count": null,
      "outputs": []
    },
    {
      "cell_type": "code",
      "execution_count": 73,
      "id": "4UPDwpgBtfkF",
      "metadata": {
        "id": "4UPDwpgBtfkF",
        "outputId": "86b81bc5-a433-4939-f166-b510e2957bc3",
        "colab": {
          "base_uri": "https://localhost:8080/",
          "height": 295
        }
      },
      "outputs": [
        {
          "output_type": "display_data",
          "data": {
            "text/plain": [
              "<Figure size 432x288 with 1 Axes>"
            ],
            "image/png": "[encoded data removed]"
          },
          "metadata": {
            "needs_background": "light"
          }
        }
      ],
      "source": [
        "import matplotlib.pyplot as plt\n",
        "\n",
        "# accuracy\n",
        "plt.plot(history['accuracy'])\n",
        "plt.title('model accuracy - LSTM128, epoch20, 5words')\n",
        "plt.ylabel('accuracy')\n",
        "plt.xlabel('epoch')\n",
        "plt.legend(['train', 'test'], loc = 'upper left')\n",
        "plt.savefig(\"accuracy.png\")\n",
        "\n",
        "# loss\n",
        "plt.plot(history['loss'])\n",
        "plt.title('model loss - LSTM128, epoch20, 5words')\n",
        "plt.ylabel('loss')\n",
        "plt.xlabel('epoch')\n",
        "plt.legend(['train', 'test'], loc = 'upper left')\n",
        "plt.savefig(\"loss.png\")"
      ]
    },
    {
      "cell_type": "code",
      "source": [
        "# Now, we need to predict new words using this model. \n",
        "# To do that we input the sample as a feature vector. \n",
        "# We convert the input string to a single feature vector.\n",
        "\n",
        "def prepare_input(text):\n",
        "    x = np.zeros((1, WORD_LENGTH, len(unique_words)))\n",
        "    for t, word in enumerate(text.split()):\n",
        "        print(word)\n",
        "        x[0, t, unique_word_index[word]] = 1\n",
        "    return x\n",
        "prepare_input(\"farmers concerned about british sugar\".lower())"
      ],
      "metadata": {
        "id": "W3GtCdvE3Mxm",
        "outputId": "97f849a1-e6d0-4f23-b35e-99515b18fdd0",
        "colab": {
          "base_uri": "https://localhost:8080/",
          "height": 341
        }
      },
      "id": "W3GtCdvE3Mxm",
      "execution_count": 93,
      "outputs": [
        {
          "output_type": "stream",
          "name": "stdout",
          "text": [
            "farmers\n"
          ]
        },
        {
          "output_type": "error",
          "ename": "KeyError",
          "evalue": "ignored",
          "traceback": [
            "\u001b[0;31m---------------------------------------------------------------------------\u001b[0m",
            "\u001b[0;31mKeyError\u001b[0m                                  Traceback (most recent call last)",
            "\u001b[0;32m<ipython-input-93-aacef426a7aa>\u001b[0m in \u001b[0;36m<module>\u001b[0;34m\u001b[0m\n\u001b[1;32m      9\u001b[0m         \u001b[0mx\u001b[0m\u001b[0;34m[\u001b[0m\u001b[0;36m0\u001b[0m\u001b[0;34m,\u001b[0m \u001b[0mt\u001b[0m\u001b[0;34m,\u001b[0m \u001b[0munique_word_index\u001b[0m\u001b[0;34m[\u001b[0m\u001b[0mword\u001b[0m\u001b[0;34m]\u001b[0m\u001b[0;34m]\u001b[0m \u001b[0;34m=\u001b[0m \u001b[0;36m1\u001b[0m\u001b[0;34m\u001b[0m\u001b[0;34m\u001b[0m\u001b[0m\n\u001b[1;32m     10\u001b[0m     \u001b[0;32mreturn\u001b[0m \u001b[0mx\u001b[0m\u001b[0;34m\u001b[0m\u001b[0;34m\u001b[0m\u001b[0m\n\u001b[0;32m---> 11\u001b[0;31m \u001b[0mprepare_input\u001b[0m\u001b[0;34m(\u001b[0m\u001b[0;34m\"farmers concerned about british sugar\"\u001b[0m\u001b[0;34m.\u001b[0m\u001b[0mlower\u001b[0m\u001b[0;34m(\u001b[0m\u001b[0;34m)\u001b[0m\u001b[0;34m)\u001b[0m\u001b[0;34m\u001b[0m\u001b[0;34m\u001b[0m\u001b[0m\n\u001b[0m",
            "\u001b[0;32m<ipython-input-93-aacef426a7aa>\u001b[0m in \u001b[0;36mprepare_input\u001b[0;34m(text)\u001b[0m\n\u001b[1;32m      7\u001b[0m     \u001b[0;32mfor\u001b[0m \u001b[0mt\u001b[0m\u001b[0;34m,\u001b[0m \u001b[0mword\u001b[0m \u001b[0;32min\u001b[0m \u001b[0menumerate\u001b[0m\u001b[0;34m(\u001b[0m\u001b[0mtext\u001b[0m\u001b[0;34m.\u001b[0m\u001b[0msplit\u001b[0m\u001b[0;34m(\u001b[0m\u001b[0;34m)\u001b[0m\u001b[0;34m)\u001b[0m\u001b[0;34m:\u001b[0m\u001b[0;34m\u001b[0m\u001b[0;34m\u001b[0m\u001b[0m\n\u001b[1;32m      8\u001b[0m         \u001b[0mprint\u001b[0m\u001b[0;34m(\u001b[0m\u001b[0mword\u001b[0m\u001b[0;34m)\u001b[0m\u001b[0;34m\u001b[0m\u001b[0;34m\u001b[0m\u001b[0m\n\u001b[0;32m----> 9\u001b[0;31m         \u001b[0mx\u001b[0m\u001b[0;34m[\u001b[0m\u001b[0;36m0\u001b[0m\u001b[0;34m,\u001b[0m \u001b[0mt\u001b[0m\u001b[0;34m,\u001b[0m \u001b[0munique_word_index\u001b[0m\u001b[0;34m[\u001b[0m\u001b[0mword\u001b[0m\u001b[0;34m]\u001b[0m\u001b[0;34m]\u001b[0m \u001b[0;34m=\u001b[0m \u001b[0;36m1\u001b[0m\u001b[0;34m\u001b[0m\u001b[0;34m\u001b[0m\u001b[0m\n\u001b[0m\u001b[1;32m     10\u001b[0m     \u001b[0;32mreturn\u001b[0m \u001b[0mx\u001b[0m\u001b[0;34m\u001b[0m\u001b[0;34m\u001b[0m\u001b[0m\n\u001b[1;32m     11\u001b[0m \u001b[0mprepare_input\u001b[0m\u001b[0;34m(\u001b[0m\u001b[0;34m\"farmers concerned about british sugar\"\u001b[0m\u001b[0;34m.\u001b[0m\u001b[0mlower\u001b[0m\u001b[0;34m(\u001b[0m\u001b[0;34m)\u001b[0m\u001b[0;34m)\u001b[0m\u001b[0;34m\u001b[0m\u001b[0;34m\u001b[0m\u001b[0m\n",
            "\u001b[0;31mKeyError\u001b[0m: 'farmers'"
          ]
        }
      ]
    },
    {
      "cell_type": "code",
      "execution_count": 95,
      "id": "fmfAeTHUt5aL",
      "metadata": {
        "id": "fmfAeTHUt5aL"
      },
      "outputs": [],
      "source": [
        "# To choose the best possible n words after the prediction from the model is done by sample function.\n",
        "\n",
        "def sample(preds, top_n=3):\n",
        "    preds = np.asarray(preds).astype('float64')\n",
        "    preds = np.log(preds)\n",
        "    exp_preds = np.exp(preds)\n",
        "    preds = exp_preds / np.sum(exp_preds)\n",
        "    return heapq.nlargest(top_n, range(len(preds)), preds.take)"
      ]
    },
    {
      "cell_type": "code",
      "execution_count": 96,
      "id": "r75h3atZuDxS",
      "metadata": {
        "id": "r75h3atZuDxS"
      },
      "outputs": [],
      "source": [
        "# Model to predict and return the list of n predicted words.\n",
        "\n",
        "def predict_completions(text, n=3):\n",
        "    if text == \"\":\n",
        "        return(\"0\")\n",
        "    x = prepare_input(text)\n",
        "    preds = model.predict(x, verbose=0)[0]\n",
        "    next_indices = sample(preds, n)\n",
        "    return [unique_words[idx] for idx in next_indices]"
      ]
    },
    {
      "cell_type": "code",
      "execution_count": 97,
      "id": "Cv5GjUyDuaNp",
      "metadata": {
        "id": "Cv5GjUyDuaNp",
        "colab": {
          "base_uri": "https://localhost:8080/",
          "height": 382
        },
        "outputId": "50d225ef-2fc5-4906-d788-be0d6dce6b5b"
      },
      "outputs": [
        {
          "output_type": "stream",
          "name": "stdout",
          "text": [
            "correct sentence:  farmers concerned about british sugar ownership\n",
            "Sequence:  farmers concerned about british sugar\n"
          ]
        },
        {
          "output_type": "error",
          "ename": "NameError",
          "evalue": "ignored",
          "traceback": [
            "\u001b[0;31m---------------------------------------------------------------------------\u001b[0m",
            "\u001b[0;31mNameError\u001b[0m                                 Traceback (most recent call last)",
            "\u001b[0;32m<ipython-input-97-96d28dc4ab8a>\u001b[0m in \u001b[0;36m<module>\u001b[0;34m\u001b[0m\n\u001b[1;32m     31\u001b[0m \u001b[0mseq\u001b[0m \u001b[0;34m=\u001b[0m \u001b[0;34m\" \"\u001b[0m\u001b[0;34m.\u001b[0m\u001b[0mjoin\u001b[0m\u001b[0;34m(\u001b[0m\u001b[0mtokenizer\u001b[0m\u001b[0;34m.\u001b[0m\u001b[0mtokenize\u001b[0m\u001b[0;34m(\u001b[0m\u001b[0mq\u001b[0m\u001b[0;34m.\u001b[0m\u001b[0mlower\u001b[0m\u001b[0;34m(\u001b[0m\u001b[0;34m)\u001b[0m\u001b[0;34m)\u001b[0m\u001b[0;34m[\u001b[0m\u001b[0;36m0\u001b[0m\u001b[0;34m:\u001b[0m\u001b[0;36m5\u001b[0m\u001b[0;34m]\u001b[0m\u001b[0;34m)\u001b[0m\u001b[0;34m\u001b[0m\u001b[0;34m\u001b[0m\u001b[0m\n\u001b[1;32m     32\u001b[0m \u001b[0mprint\u001b[0m\u001b[0;34m(\u001b[0m\u001b[0;34m\"Sequence: \"\u001b[0m\u001b[0;34m,\u001b[0m\u001b[0mseq\u001b[0m\u001b[0;34m)\u001b[0m\u001b[0;34m\u001b[0m\u001b[0;34m\u001b[0m\u001b[0m\n\u001b[0;32m---> 33\u001b[0;31m \u001b[0mprint\u001b[0m\u001b[0;34m(\u001b[0m\u001b[0;34m\"next possible words: \"\u001b[0m\u001b[0;34m,\u001b[0m \u001b[0mpredict_completions\u001b[0m\u001b[0;34m(\u001b[0m\u001b[0mseq\u001b[0m\u001b[0;34m,\u001b[0m \u001b[0;36m5\u001b[0m\u001b[0;34m)\u001b[0m\u001b[0;34m)\u001b[0m\u001b[0;34m\u001b[0m\u001b[0;34m\u001b[0m\u001b[0m\n\u001b[0m",
            "\u001b[0;32m<ipython-input-96-cb0c179b09a2>\u001b[0m in \u001b[0;36mpredict_completions\u001b[0;34m(text, n)\u001b[0m\n\u001b[1;32m      4\u001b[0m     \u001b[0;32mif\u001b[0m \u001b[0mtext\u001b[0m \u001b[0;34m==\u001b[0m \u001b[0;34m\"\"\u001b[0m\u001b[0;34m:\u001b[0m\u001b[0;34m\u001b[0m\u001b[0;34m\u001b[0m\u001b[0m\n\u001b[1;32m      5\u001b[0m         \u001b[0;32mreturn\u001b[0m\u001b[0;34m(\u001b[0m\u001b[0;34m\"0\"\u001b[0m\u001b[0;34m)\u001b[0m\u001b[0;34m\u001b[0m\u001b[0;34m\u001b[0m\u001b[0m\n\u001b[0;32m----> 6\u001b[0;31m     \u001b[0mx\u001b[0m \u001b[0;34m=\u001b[0m \u001b[0mprepare_input\u001b[0m\u001b[0;34m(\u001b[0m\u001b[0mtext\u001b[0m\u001b[0;34m)\u001b[0m\u001b[0;34m\u001b[0m\u001b[0;34m\u001b[0m\u001b[0m\n\u001b[0m\u001b[1;32m      7\u001b[0m     \u001b[0mpreds\u001b[0m \u001b[0;34m=\u001b[0m \u001b[0mmodel\u001b[0m\u001b[0;34m.\u001b[0m\u001b[0mpredict\u001b[0m\u001b[0;34m(\u001b[0m\u001b[0mx\u001b[0m\u001b[0;34m,\u001b[0m \u001b[0mverbose\u001b[0m\u001b[0;34m=\u001b[0m\u001b[0;36m0\u001b[0m\u001b[0;34m)\u001b[0m\u001b[0;34m[\u001b[0m\u001b[0;36m0\u001b[0m\u001b[0;34m]\u001b[0m\u001b[0;34m\u001b[0m\u001b[0;34m\u001b[0m\u001b[0m\n\u001b[1;32m      8\u001b[0m     \u001b[0mnext_indices\u001b[0m \u001b[0;34m=\u001b[0m \u001b[0msample\u001b[0m\u001b[0;34m(\u001b[0m\u001b[0mpreds\u001b[0m\u001b[0;34m,\u001b[0m \u001b[0mn\u001b[0m\u001b[0;34m)\u001b[0m\u001b[0;34m\u001b[0m\u001b[0;34m\u001b[0m\u001b[0m\n",
            "\u001b[0;32m<ipython-input-94-7cf97bef531a>\u001b[0m in \u001b[0;36mprepare_input\u001b[0;34m(text)\u001b[0m\n\u001b[1;32m      1\u001b[0m \u001b[0;32mdef\u001b[0m \u001b[0mprepare_input\u001b[0m\u001b[0;34m(\u001b[0m\u001b[0mtext\u001b[0m\u001b[0;34m)\u001b[0m\u001b[0;34m:\u001b[0m\u001b[0;34m\u001b[0m\u001b[0;34m\u001b[0m\u001b[0m\n\u001b[0;32m----> 2\u001b[0;31m     \u001b[0mx\u001b[0m \u001b[0;34m=\u001b[0m \u001b[0mnp\u001b[0m\u001b[0;34m.\u001b[0m\u001b[0mzeros\u001b[0m\u001b[0;34m(\u001b[0m\u001b[0;34m(\u001b[0m\u001b[0;36m1\u001b[0m\u001b[0;34m,\u001b[0m \u001b[0mSEQUENCE_LENGTH\u001b[0m\u001b[0;34m,\u001b[0m \u001b[0mlen\u001b[0m\u001b[0;34m(\u001b[0m\u001b[0mtext\u001b[0m\u001b[0;34m)\u001b[0m\u001b[0;34m)\u001b[0m\u001b[0;34m)\u001b[0m\u001b[0;34m\u001b[0m\u001b[0;34m\u001b[0m\u001b[0m\n\u001b[0m\u001b[1;32m      3\u001b[0m     \u001b[0;32mfor\u001b[0m \u001b[0mt\u001b[0m\u001b[0;34m,\u001b[0m \u001b[0mchar\u001b[0m \u001b[0;32min\u001b[0m \u001b[0menumerate\u001b[0m\u001b[0;34m(\u001b[0m\u001b[0mtext\u001b[0m\u001b[0;34m)\u001b[0m\u001b[0;34m:\u001b[0m\u001b[0;34m\u001b[0m\u001b[0;34m\u001b[0m\u001b[0m\n\u001b[1;32m      4\u001b[0m         \u001b[0mx\u001b[0m\u001b[0;34m[\u001b[0m\u001b[0;36m0\u001b[0m\u001b[0;34m,\u001b[0m \u001b[0mt\u001b[0m\u001b[0;34m,\u001b[0m \u001b[0mchar_indices\u001b[0m\u001b[0;34m[\u001b[0m\u001b[0mchar\u001b[0m\u001b[0;34m]\u001b[0m\u001b[0;34m]\u001b[0m \u001b[0;34m=\u001b[0m \u001b[0;36m1\u001b[0m\u001b[0;34m\u001b[0m\u001b[0;34m\u001b[0m\u001b[0m\n\u001b[1;32m      5\u001b[0m     \u001b[0;32mreturn\u001b[0m \u001b[0mx\u001b[0m\u001b[0;34m\u001b[0m\u001b[0;34m\u001b[0m\u001b[0m\n",
            "\u001b[0;31mNameError\u001b[0m: name 'SEQUENCE_LENGTH' is not defined"
          ]
        }
      ],
      "source": [
        "# We use tokenizer.tokenize for removing the punctuations and also we choose 5 first words because our predicts base on 5 previous words.\n",
        "q =  \"farmers concerned about british sugar ownership\"\n",
        "\n",
        "## 20 EXAMPLES FOR EVALUATION:\n",
        "\"\"\"\n",
        "'farmers concerned about british sugar ownership'\n",
        "'satellite auction unit march, april bookings up'\n",
        "'winland electronics inc 4th qtr loss'\n",
        "'sapporo breweries issues five year sfr notes'\n",
        "'report due on oil imports and national security'\n",
        "'continental air february load factor falls'\n",
        "'great american issues 15 billion yen eurobond'\n",
        "'paribas shares to be quoted on main paris market'\n",
        "'salomon sells 200 mln stg mortgages-backed notes'\n",
        "'opec says february output under ceiling'\n",
        "\"\"\"\n",
        "\n",
        "tokenizer = RegexpTokenizer(r'\\w+')\n",
        "# words = tokenizer.tokenize(text)\n",
        "\n",
        "\n",
        "\n",
        "# tokenizer = Tokenizer()\n",
        "# tokenizer.fit_on_texts([data])\n",
        "# encoded_data = tokenizer.texts_to_sequences([data])[0]\n",
        "# print(len(encoded_data))\n",
        "# encoded_data[:5]\n",
        "\n",
        "print(\"correct sentence: \",q)\n",
        "# seq = \" \".join(tokenizer.fit_on_texts(q.lower())[0:5])\n",
        "seq = \" \".join(tokenizer.tokenize(q.lower())[0:5])\n",
        "print(\"Sequence: \",seq)\n",
        "print(\"next possible words: \", predict_completions(seq, 5))"
      ]
    },
    {
      "cell_type": "markdown",
      "id": "H41rOg1XpXUl",
      "metadata": {
        "id": "H41rOg1XpXUl"
      },
      "source": [
        "**Creating a Prediction script**"
      ]
    },
    {
      "cell_type": "code",
      "execution_count": null,
      "id": "jVlQUV23pa6X",
      "metadata": {
        "id": "jVlQUV23pa6X"
      },
      "outputs": [],
      "source": [
        "from tensorflow.keras.models import load_model\n",
        "\n",
        "# Load the model and tokenizer\n",
        "\n",
        "model = history\n",
        "\n",
        "def Predict_Next_Words(model, tokenizer, text):\n",
        "    \"\"\"\n",
        "        In this function we are using the tokenizer and models trained\n",
        "        and we are creating the sequence of the text entered and then\n",
        "        using our model to predict and return the the predicted word.\n",
        "    \n",
        "    \"\"\"\n",
        "    for i in range(3):\n",
        "        sequence = tokenizer.texts_to_sequences([text])[0]\n",
        "        sequence = np.array(sequence)\n",
        "        \n",
        "        preds = model.predict_classes(sequence)\n",
        "#         print(preds)\n",
        "        predicted_word = \"\"\n",
        "        \n",
        "        for key, value in tokenizer.word_index.items():\n",
        "            if value == preds:\n",
        "                predicted_word = key\n",
        "                break\n",
        "        \n",
        "        print(predicted_word)\n",
        "        return predicted_word"
      ]
    },
    {
      "cell_type": "code",
      "execution_count": null,
      "id": "LxZ-ZlCkpgZ0",
      "metadata": {
        "id": "LxZ-ZlCkpgZ0"
      },
      "outputs": [],
      "source": [
        "\"\"\"\n",
        "    We are testing our model and we will run the model\n",
        "    until the user decides to stop the script.\n",
        "    While the script is running we try and check if \n",
        "    the prediction can be made on the text. If no\n",
        "    prediction can be made we just continue.\n",
        "\n",
        "\"\"\"\n",
        "\n",
        "# text1 = \"at the dull\"\n",
        "# text2 = \"collection of textile\"\n",
        "# text3 = \"what a strenuous\"\n",
        "# text4 = \"stop the script\"\n",
        "\n",
        "while(True):\n",
        "\n",
        "    text = input(\"Enter your line: \")\n",
        "    \n",
        "    if text == \"stop the script\":\n",
        "        print(\"Ending The Program.....\")\n",
        "        break\n",
        "    \n",
        "    else:\n",
        "        try:\n",
        "            text = text.split(\" \")\n",
        "            text = text[-1]\n",
        "\n",
        "            text = ''.join(text)\n",
        "            Predict_Next_Words(model, tokenizer, text)\n",
        "            \n",
        "        except:\n",
        "            continue"
      ]
    }
  ],
  "metadata": {
    "accelerator": "GPU",
    "colab": {
      "provenance": []
    },
    "gpuClass": "standard",
    "kernelspec": {
      "display_name": "Python 3 (ipykernel)",
      "language": "python",
      "name": "python3"
    },
    "language_info": {
      "codemirror_mode": {
        "name": "ipython",
        "version": 3
      },
      "file_extension": ".py",
      "mimetype": "text/x-python",
      "name": "python",
      "nbconvert_exporter": "python",
      "pygments_lexer": "ipython3",
      "version": "3.8.5"
    }
  },
  "nbformat": 4,
  "nbformat_minor": 5
}