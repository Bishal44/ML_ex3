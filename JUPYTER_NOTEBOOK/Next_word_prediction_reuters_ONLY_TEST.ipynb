{
  "cells": [
    {
      "cell_type": "code",
      "execution_count": 54,
      "id": "50eb1355",
      "metadata": {
        "id": "50eb1355"
      },
      "outputs": [],
      "source": [
        "import os\n",
        "from bs4 import BeautifulSoup\n",
        "import string\n",
        "from nltk.tokenize import RegexpTokenizer\n",
        "from tensorflow.keras.preprocessing.text import Tokenizer\n",
        "from tensorflow.keras.layers import Embedding, LSTM, Dense\n",
        "from tensorflow.keras.models import Sequential, load_model\n",
        "from tensorflow.keras.models import load_model\n",
        "from keras.layers.core import Dense, Activation\n",
        "from tensorflow.keras.utils import to_categorical\n",
        "from tensorflow.keras.optimizers import Adam\n",
        "from keras.utils import to_categorical\n",
        "import pickle\n",
        "from keras.optimizers import RMSprop\n",
        "import numpy as np\n",
        "from numpy import arrayimport heapq"
      ]
    },
    {
      "cell_type": "markdown",
      "id": "nXwmMiUHVmN1",
      "metadata": {
        "id": "nXwmMiUHVmN1"
      },
      "source": [
        "**Import data**"
      ]
    },
    {
      "cell_type": "code",
      "execution_count": 55,
      "id": "b0f4c486",
      "metadata": {
        "id": "b0f4c486"
      },
      "outputs": [],
      "source": [
        "documents = []\n",
        "for file in os.listdir(\"sample_data/\"): # original: \"reuters_data/\"\n",
        "    if file.endswith('.sgm'): # it is important for GoogleColab\n",
        "        filename = os.path.join(\"sample_data\", file) # original: \"reuters_data\"\n",
        "        f = open(filename, 'r', encoding='utf-8', errors='ignore')\n",
        "        dataFile = f.read().lower()\n",
        "        \n",
        "        soup = BeautifulSoup(dataFile, 'html.parser')\n",
        "        contents = soup.findAll('title')\n",
        "        \n",
        "        for content in contents:\n",
        "            documents.append(content.text)"
      ]
    },
    {
      "cell_type": "code",
      "execution_count": 56,
      "id": "jwFHnhJ6YrPG",
      "metadata": {
        "colab": {
          "base_uri": "https://localhost:8080/"
        },
        "id": "jwFHnhJ6YrPG",
        "outputId": "3cb13168-28d7-4b2a-eff7-a2f0f94ff196"
      },
      "outputs": [
        {
          "output_type": "stream",
          "name": "stdout",
          "text": [
            "Number of documents: 7958\n"
          ]
        }
      ],
      "source": [
        "print('Number of documents: {}'.format(len(documents)))"
      ]
    },
    {
      "cell_type": "code",
      "execution_count": 57,
      "id": "BwkB00Xzx-vT",
      "metadata": {
        "colab": {
          "base_uri": "https://localhost:8080/"
        },
        "id": "BwkB00Xzx-vT",
        "outputId": "317c90dc-e96a-45a6-e454-0df5538e1921"
      },
      "outputs": [
        {
          "output_type": "stream",
          "name": "stdout",
          "text": [
            "Number of documents: 7693\n"
          ]
        }
      ],
      "source": [
        "# Remove duplicated strings from the list of strings\n",
        "documents = [i for n, i in enumerate(documents) if i not in documents[:n]]\n",
        "\n",
        "print('Number of documents: {}'.format(len(documents)))"
      ]
    },
    {
      "cell_type": "code",
      "execution_count": 58,
      "id": "2f9549e3",
      "metadata": {
        "colab": {
          "base_uri": "https://localhost:8080/"
        },
        "id": "2f9549e3",
        "outputId": "b1b09294-e875-45b6-b35b-92d3323a2d31"
      },
      "outputs": [
        {
          "output_type": "execute_result",
          "data": {
            "text/plain": [
              "['sandoz plans weedkiller joint venture in ussr',\n",
              " 'taiwan rejects textile makers exchange rate plea',\n",
              " 'national fsi inc <nfsi> 4th qtr loss',\n",
              " 'occidental <oxy> official resigns',\n",
              " \"italy's bnl to issue 120 mln dlr convertible bond\",\n",
              " 'ge <ge> says amr <amr> order worth 650 mln dlrs',\n",
              " '<precambrian shield resources ltd> year loss',\n",
              " 'u.k. money market given further 437 mln stg help',\n",
              " 'grease monkey holding corp <gmhc> year nov 30',\n",
              " 'acceptance insurance holdings inc <acpt> year']"
            ]
          },
          "metadata": {},
          "execution_count": 58
        }
      ],
      "source": [
        "documents[:10]"
      ]
    },
    {
      "cell_type": "markdown",
      "id": "fRsdiodgY4er",
      "metadata": {
        "id": "fRsdiodgY4er"
      },
      "source": [
        "**Join the documents**"
      ]
    },
    {
      "cell_type": "code",
      "execution_count": 59,
      "id": "9e5894ab",
      "metadata": {
        "id": "9e5894ab"
      },
      "outputs": [],
      "source": [
        "data = \"\"\n",
        "for d in documents:\n",
        "    data += d"
      ]
    },
    {
      "cell_type": "code",
      "execution_count": 60,
      "id": "a3a635c4",
      "metadata": {
        "colab": {
          "base_uri": "https://localhost:8080/"
        },
        "id": "a3a635c4",
        "outputId": "ee7d931b-945c-45ad-83f8-68c7a2609e22"
      },
      "outputs": [
        {
          "output_type": "stream",
          "name": "stdout",
          "text": [
            "Number of data: 347403\n"
          ]
        }
      ],
      "source": [
        "print('Number of data: {}'.format(len(data)))"
      ]
    },
    {
      "cell_type": "code",
      "execution_count": 61,
      "id": "3ffe6795",
      "metadata": {
        "colab": {
          "base_uri": "https://localhost:8080/"
        },
        "id": "3ffe6795",
        "outputId": "4d850ef5-2af4-4d9d-aa04-88778a99cb14"
      },
      "outputs": [
        {
          "output_type": "stream",
          "name": "stdout",
          "text": [
            "Number of data: 346768\n",
            "sandoz plans weedkiller joint venture in ussrtaiwan rejects textile makers exchange rate pleanationa\n"
          ]
        }
      ],
      "source": [
        "# improve punctuation\n",
        "data = data.replace('\\n', '').replace('\\r', '').replace('\\ufeff', '')\n",
        "print('Number of data: {}'.format(len(data)))\n",
        "print(data[:100])"
      ]
    },
    {
      "cell_type": "code",
      "execution_count": 62,
      "id": "CNRiSJsMtwQu",
      "metadata": {
        "colab": {
          "base_uri": "https://localhost:8080/"
        },
        "id": "CNRiSJsMtwQu",
        "outputId": "bea6743f-4788-43c5-9866-5c36c1bbe06e"
      },
      "outputs": [
        {
          "output_type": "stream",
          "name": "stdout",
          "text": [
            "sandoz plans weedkiller joint venture in ussrtaiwan rejects textile makers exchange rate pleanationa\n"
          ]
        }
      ],
      "source": [
        "translator = str.maketrans(string.punctuation, ' '*len(string.punctuation)) #map punctuation to space\n",
        "data = data.translate(translator)\n",
        "print(data[:100])"
      ]
    },
    {
      "cell_type": "code",
      "execution_count": 63,
      "id": "225b3c6b",
      "metadata": {
        "colab": {
          "base_uri": "https://localhost:8080/"
        },
        "id": "225b3c6b",
        "outputId": "ebdb2580-0afc-4b44-98a1-0307a3be8917"
      },
      "outputs": [
        {
          "output_type": "stream",
          "name": "stdout",
          "text": [
            "51500\n"
          ]
        },
        {
          "output_type": "execute_result",
          "data": {
            "text/plain": [
              "[2237, 75, 3707, 189, 440]"
            ]
          },
          "metadata": {},
          "execution_count": 63
        }
      ],
      "source": [
        "# integer encode text\n",
        "tokenizer = Tokenizer()\n",
        "tokenizer.fit_on_texts([data])\n",
        "encoded_data = tokenizer.texts_to_sequences([data])[0]\n",
        "print(len(encoded_data))\n",
        "encoded_data[:5]"
      ]
    },
    {
      "cell_type": "code",
      "execution_count": 64,
      "id": "cff5b658",
      "metadata": {
        "colab": {
          "base_uri": "https://localhost:8080/"
        },
        "id": "cff5b658",
        "outputId": "4f2c53c4-90d3-4ac6-fd84-7082748e7619"
      },
      "outputs": [
        {
          "output_type": "stream",
          "name": "stdout",
          "text": [
            "Vocabulary Size: 14411\n"
          ]
        }
      ],
      "source": [
        "# determine the vocabulary size\n",
        "# unique_words = tokenizer.word_index\n",
        "unique_words = np.unique(encoded_data)\n",
        "vocab_size = len(unique_words) + 1  # 0 is reserved for padding so that's why we added 1\n",
        "unique_word_index = dict((c, i) for i, c in enumerate(unique_words))\n",
        "print('Vocabulary Size: %d' % vocab_size)"
      ]
    },
    {
      "cell_type": "markdown",
      "id": "PYLR_W62b3lm",
      "metadata": {
        "id": "PYLR_W62b3lm"
      },
      "source": [
        "**Next, we need to create sequences of words to fit the model with one word as input and one word as output.**"
      ]
    },
    {
      "cell_type": "code",
      "execution_count": 65,
      "id": "858f3ef5",
      "metadata": {
        "colab": {
          "base_uri": "https://localhost:8080/"
        },
        "id": "858f3ef5",
        "outputId": "66097fe4-d333-491c-bdf5-d74b0524e002"
      },
      "outputs": [
        {
          "output_type": "stream",
          "name": "stdout",
          "text": [
            "[75, 3707, 189, 440, 3]\n",
            "3708\n"
          ]
        }
      ],
      "source": [
        "# create word -> word sequences\n",
        "WORD_LENGTH = 5\n",
        "prev_words = []\n",
        "next_words = []\n",
        "for i in range(1, len(encoded_data) - WORD_LENGTH):\n",
        "    prev_words.append(encoded_data[i:i + WORD_LENGTH])\n",
        "    next_words.append(encoded_data[i + WORD_LENGTH])\n",
        "print(prev_words[0])\n",
        "print(next_words[0])"
      ]
    },
    {
      "cell_type": "code",
      "execution_count": 66,
      "id": "uiJwfjRM1WYf",
      "metadata": {
        "colab": {
          "base_uri": "https://localhost:8080/"
        },
        "id": "uiJwfjRM1WYf",
        "outputId": "fc2f732a-0d6c-4e77-ebf9-391fa2bb1117"
      },
      "outputs": [
        {
          "output_type": "stream",
          "name": "stdout",
          "text": [
            "Total Sequences: 51494\n"
          ]
        }
      ],
      "source": [
        "print('Total Sequences: %d' % len(prev_words))"
      ]
    },
    {
      "cell_type": "code",
      "execution_count": 67,
      "id": "MNb-LdgdcqSZ",
      "metadata": {
        "id": "MNb-LdgdcqSZ"
      },
      "outputs": [],
      "source": [
        "# list(len(prev_words)[:5]) # [input, output]"
      ]
    },
    {
      "cell_type": "markdown",
      "id": "kMClupvlcdWq",
      "metadata": {
        "id": "kMClupvlcdWq"
      },
      "source": [
        "\n",
        "\n",
        "**We can then split the sequences into input (X) and output elements (y)**\n",
        "\n"
      ]
    },
    {
      "cell_type": "code",
      "execution_count": 68,
      "id": "f0fb1be0",
      "metadata": {
        "id": "f0fb1be0"
      },
      "outputs": [],
      "source": [
        "# split into X and y elements\n",
        "X = prev_words\n",
        "X = np.array(X)\n",
        "Y = next_words\n",
        "Y = np.array(Y)\n",
        "\n",
        "# X = np.zeros((len(prev_words), WORD_LENGTH, vocab_size), dtype=bool)\n",
        "# Y = np.zeros((len(next_words), vocab_size), dtype=bool)"
      ]
    },
    {
      "cell_type": "code",
      "execution_count": 69,
      "id": "6f323b68",
      "metadata": {
        "colab": {
          "base_uri": "https://localhost:8080/"
        },
        "id": "6f323b68",
        "outputId": "151c4d64-cae5-4e3f-bb24-de7e765bbc48"
      },
      "outputs": [
        {
          "output_type": "stream",
          "name": "stdout",
          "text": [
            "[[  75 3707  189  440    3]\n",
            " [3707  189  440    3 3708]\n",
            " [ 189  440    3 3708  264]\n",
            " [ 440    3 3708  264 1095]\n",
            " [   3 3708  264 1095 1643]]\n",
            "[3708  264 1095 1643  157]\n"
          ]
        }
      ],
      "source": [
        "print(X[:5])\n",
        "print(Y[:5])"
      ]
    },
    {
      "cell_type": "code",
      "execution_count": 70,
      "id": "101d961d",
      "metadata": {
        "id": "101d961d",
        "outputId": "5871b7eb-4e9a-49c4-e800-34e1c9c65d14",
        "colab": {
          "base_uri": "https://localhost:8080/"
        }
      },
      "outputs": [
        {
          "output_type": "execute_result",
          "data": {
            "text/plain": [
              "array([[0., 0., 0., ..., 0., 0., 0.],\n",
              "       [0., 0., 0., ..., 0., 0., 0.],\n",
              "       [0., 0., 0., ..., 0., 0., 0.],\n",
              "       [0., 0., 0., ..., 0., 0., 0.],\n",
              "       [0., 0., 0., ..., 0., 0., 0.]], dtype=float32)"
            ]
          },
          "metadata": {},
          "execution_count": 70
        }
      ],
      "source": [
        "# one hot encode outputs\n",
        "Y = to_categorical(Y, num_classes=vocab_size)\n",
        "# define model\n",
        "Y[:5]"
      ]
    },
    {
      "cell_type": "code",
      "execution_count": 71,
      "id": "ALNxgolmIFBD",
      "metadata": {
        "colab": {
          "base_uri": "https://localhost:8080/"
        },
        "id": "ALNxgolmIFBD",
        "outputId": "f7b56f34-9876-4c8b-e009-a64bbd878ab2"
      },
      "outputs": [
        {
          "output_type": "execute_result",
          "data": {
            "text/plain": [
              "(51494, 14411)"
            ]
          },
          "metadata": {},
          "execution_count": 71
        }
      ],
      "source": [
        "X.shape\n",
        "Y.shape"
      ]
    },
    {
      "cell_type": "markdown",
      "id": "9-SgDZVKd_IL",
      "metadata": {
        "id": "9-SgDZVKd_IL"
      },
      "source": [
        "**Build the model**"
      ]
    },
    {
      "cell_type": "code",
      "execution_count": 72,
      "id": "b459da0b",
      "metadata": {
        "colab": {
          "base_uri": "https://localhost:8080/"
        },
        "id": "b459da0b",
        "outputId": "270284a8-985d-48ff-8838-30f8028f7965"
      },
      "outputs": [
        {
          "output_type": "stream",
          "name": "stdout",
          "text": [
            "Model: \"sequential_2\"\n",
            "_________________________________________________________________\n",
            " Layer (type)                Output Shape              Param #   \n",
            "=================================================================\n",
            " embedding_2 (Embedding)     (None, 1, 5)              72055     \n",
            "                                                                 \n",
            " lstm_2 (LSTM)               (None, 128)               68608     \n",
            "                                                                 \n",
            " dense_2 (Dense)             (None, 14411)             1859019   \n",
            "                                                                 \n",
            "=================================================================\n",
            "Total params: 1,999,682\n",
            "Trainable params: 1,999,682\n",
            "Non-trainable params: 0\n",
            "_________________________________________________________________\n",
            "None\n"
          ]
        }
      ],
      "source": [
        "model = Sequential()\n",
        "model.add(Embedding(vocab_size, 5, input_length=1)) # original: 5\n",
        "model.add(LSTM(128))\n",
        "model.add(Dense(vocab_size, activation='softmax'))\n",
        "print(model.summary())"
      ]
    },
    {
      "cell_type": "markdown",
      "id": "F1eNfS9cebdM",
      "metadata": {
        "id": "F1eNfS9cebdM"
      },
      "source": [
        "**Train the model**"
      ]
    },
    {
      "cell_type": "code",
      "execution_count": 73,
      "id": "Pjty_axoePeu",
      "metadata": {
        "colab": {
          "base_uri": "https://localhost:8080/"
        },
        "id": "Pjty_axoePeu",
        "outputId": "1c179c99-1804-49d7-e79c-00055601dcb5"
      },
      "outputs": [
        {
          "output_type": "stream",
          "name": "stdout",
          "text": [
            "Epoch 1/20\n"
          ]
        },
        {
          "output_type": "stream",
          "name": "stderr",
          "text": [
            "WARNING:tensorflow:Model was constructed with shape (None, 1) for input KerasTensor(type_spec=TensorSpec(shape=(None, 1), dtype=tf.float32, name='embedding_2_input'), name='embedding_2_input', description=\"created by layer 'embedding_2_input'\"), but it was called on an input with incompatible shape (None, 5).\n",
            "WARNING:tensorflow:Model was constructed with shape (None, 1) for input KerasTensor(type_spec=TensorSpec(shape=(None, 1), dtype=tf.float32, name='embedding_2_input'), name='embedding_2_input', description=\"created by layer 'embedding_2_input'\"), but it was called on an input with incompatible shape (None, 5).\n"
          ]
        },
        {
          "output_type": "stream",
          "name": "stdout",
          "text": [
            "1610/1610 [==============================] - 18s 10ms/step - loss: 8.3461 - accuracy: 0.0311\n",
            "Epoch 2/20\n",
            "1610/1610 [==============================] - 13s 8ms/step - loss: 7.7183 - accuracy: 0.0484\n",
            "Epoch 3/20\n",
            "1610/1610 [==============================] - 13s 8ms/step - loss: 7.3776 - accuracy: 0.0658\n",
            "Epoch 4/20\n",
            "1610/1610 [==============================] - 13s 8ms/step - loss: 7.0263 - accuracy: 0.0793\n",
            "Epoch 5/20\n",
            "1610/1610 [==============================] - 13s 8ms/step - loss: 6.6203 - accuracy: 0.0930\n",
            "Epoch 6/20\n",
            "1610/1610 [==============================] - 13s 8ms/step - loss: 6.1555 - accuracy: 0.1064\n",
            "Epoch 7/20\n",
            "1610/1610 [==============================] - 13s 8ms/step - loss: 5.6745 - accuracy: 0.1197\n",
            "Epoch 8/20\n",
            "1610/1610 [==============================] - 13s 8ms/step - loss: 5.2146 - accuracy: 0.1398\n",
            "Epoch 9/20\n",
            "1610/1610 [==============================] - 13s 8ms/step - loss: 4.7871 - accuracy: 0.1682\n",
            "Epoch 10/20\n",
            "1610/1610 [==============================] - 13s 8ms/step - loss: 4.3881 - accuracy: 0.2116\n",
            "Epoch 11/20\n",
            "1610/1610 [==============================] - 13s 8ms/step - loss: 4.0260 - accuracy: 0.2655\n",
            "Epoch 12/20\n",
            "1610/1610 [==============================] - 13s 8ms/step - loss: 3.6950 - accuracy: 0.3182\n",
            "Epoch 13/20\n",
            "1610/1610 [==============================] - 13s 8ms/step - loss: 3.3964 - accuracy: 0.3700\n",
            "Epoch 14/20\n",
            "1610/1610 [==============================] - 13s 8ms/step - loss: 3.1299 - accuracy: 0.4100\n",
            "Epoch 15/20\n",
            "1610/1610 [==============================] - 13s 8ms/step - loss: 2.8953 - accuracy: 0.4458\n",
            "Epoch 16/20\n",
            "1610/1610 [==============================] - 13s 8ms/step - loss: 2.6826 - accuracy: 0.4822\n",
            "Epoch 17/20\n",
            "1610/1610 [==============================] - 13s 8ms/step - loss: 2.5000 - accuracy: 0.5105\n",
            "Epoch 18/20\n",
            "1610/1610 [==============================] - 13s 8ms/step - loss: 2.3332 - accuracy: 0.5382\n",
            "Epoch 19/20\n",
            "1610/1610 [==============================] - 13s 8ms/step - loss: 2.1856 - accuracy: 0.5645\n",
            "Epoch 20/20\n",
            "1610/1610 [==============================] - 13s 8ms/step - loss: 2.0521 - accuracy: 0.5895\n"
          ]
        }
      ],
      "source": [
        "# fit network\n",
        "# optimizer = RMSprop(learning_rate=0.01)\n",
        "\n",
        "# compile network\n",
        "#### since labels are INTEGERS, we need to changed from loss='categorical_crossentropy'!!!\n",
        "#### If you want to provide labels using one-hot representation, please use CategoricalCrossentropy loss.\n",
        "model.compile(loss='categorical_crossentropy', optimizer='adam', metrics=['accuracy']) # optimizer ='adam'\n",
        "history = model.fit(X, Y, epochs=20)\n",
        "\n",
        "## Alternative versions\n",
        "# history = model.fit(X, Y, validation_split=0.05, batch_size=50, epochs=20, shuffle=True).history\n",
        "# history = model.fit(X, Y, validation_split=0.05, batch_size=50, epochs=20, shuffle=True).history\n",
        "# model.fit(X, Y, epochs=100)\n",
        "# model.fit(X, y, epochs=150, batch_size=64, callbacks=[checkpoint, reduce, tensorboard_Visualization])"
      ]
    },
    {
      "cell_type": "markdown",
      "id": "QxgsBCrwtECi",
      "metadata": {
        "id": "QxgsBCrwtECi"
      },
      "source": [
        "**Save trained model**"
      ]
    },
    {
      "cell_type": "code",
      "execution_count": 74,
      "id": "A2ioJcaGtEN4",
      "metadata": {
        "id": "A2ioJcaGtEN4"
      },
      "outputs": [],
      "source": [
        "# After successful training, we will save the trained model and just load it back as needed.\n",
        "model.save('keras_next_word_model_lstm128_5.h5')"
      ]
    },
    {
      "cell_type": "code",
      "execution_count": 75,
      "id": "sI9KkPwTL3ee",
      "metadata": {
        "id": "sI9KkPwTL3ee"
      },
      "outputs": [],
      "source": [
        "model = load_model('keras_next_word_model_lstm128_5.h5')"
      ]
    },
    {
      "cell_type": "markdown",
      "id": "XsrX16ketfZq",
      "metadata": {
        "id": "XsrX16ketfZq"
      },
      "source": [
        "**Prediction**\n",
        "Using saved model:\n",
        "- we input the sample as a feature vector\n",
        "- we convert the input string to a single feature vector"
      ]
    },
    {
      "cell_type": "code",
      "execution_count": 86,
      "id": "4UPDwpgBtfkF",
      "metadata": {
        "id": "4UPDwpgBtfkF",
        "outputId": "a2f27acd-b8b8-441a-c3bb-1f07a663ba98",
        "colab": {
          "base_uri": "https://localhost:8080/",
          "height": 295
        }
      },
      "outputs": [
        {
          "output_type": "display_data",
          "data": {
            "text/plain": [
              "<Figure size 432x288 with 1 Axes>"
            ],
            "image/png": "[encoded data removed]"
          },
          "metadata": {
            "needs_background": "light"
          }
        }
      ],
      "source": [
        "import matplotlib.pyplot as plt\n",
        "\n",
        "# accuracy\n",
        "plt.plot(history.history['accuracy'])\n",
        "plt.title('model accuracy - LSTM128, epoch20, 5words')\n",
        "plt.ylabel('accuracy')\n",
        "plt.xlabel('epoch')\n",
        "plt.legend(['train', 'test'], loc = 'upper left')\n",
        "plt.savefig(\"accuracy.png\")\n",
        "\n",
        "# loss\n",
        "plt.plot(history.history['loss'])\n",
        "plt.title('model loss - LSTM128, epoch20, 5words')\n",
        "plt.ylabel('loss')\n",
        "plt.xlabel('epoch')\n",
        "plt.legend(['train', 'test'], loc = 'upper left')\n",
        "plt.savefig(\"loss.png\")"
      ]
    },
    {
      "cell_type": "code",
      "execution_count": null,
      "id": "fmfAeTHUt5aL",
      "metadata": {
        "id": "fmfAeTHUt5aL"
      },
      "outputs": [],
      "source": []
    },
    {
      "cell_type": "code",
      "execution_count": null,
      "id": "r75h3atZuDxS",
      "metadata": {
        "id": "r75h3atZuDxS"
      },
      "outputs": [],
      "source": []
    },
    {
      "cell_type": "code",
      "execution_count": null,
      "id": "Cv5GjUyDuaNp",
      "metadata": {
        "id": "Cv5GjUyDuaNp"
      },
      "outputs": [],
      "source": [
        "# We use tokenizer.tokenize fo removing the punctuations and also we choose 5 first words because our predicts base on 5 previous words.\n",
        "\n",
        "q =  \"GILLETTE CANADA ISSUES 70 MLN STG BOND\"\n",
        "\n",
        "## 20 EXAMPLES FOR EVALUATION:\n",
        "\"\"\"\n",
        "'AMES DEPARTMENT STORE <ADD> MARCH SALES UP'\n",
        "'ISRAELI HELICOPTERS RAID SOUTH LEBANON - RADIO'\n",
        "'GILLETTE CANADA ISSUES 70 MLN STG BOND'\n",
        "'DIGITAL COMMUNICATIONS <DCAI> SELLS SWITCHES'\n",
        "'ITALIAN TREASURY BILL OFFER MEETS MIXED DEMAND'\n",
        "'WESTLAND TO CUT A THIRD OF HELICOPTER WORKFORCE'\n",
        "'USDA DETAILS FREE GRAIN STOCKS UNDER LOAN'\n",
        "'FED SAYS U.S. DISCOUNT WINDOW BORROWINGS 361 MLN DLRS IN APRIL 8 WEEK'\n",
        "'HOSPITAL CORP SAYS IT RECEIVED 47 DLR A SHARE OFFER FROM INVESTOR GROUP'\n",
        "'FED SEEN BUYING DOLLARS FOR YEN IN OPEN MARKET'\n",
        "'DOLLAR ENDS LOWER IN LACKLUSTRE FRANKFURT'\n",
        "'HEALTH AND REHABILITATION <HRP> INITIAL PAYOUT'\n",
        "'SUPERMARKETS GENERAL <SGL> FIVE WEEK SALES'\n",
        "'SEKISUI CHEMICAL ISSUES EQUITY WARRANT EUROBOND'\n",
        "'WEST GERMAN BEET PLANTINGS DELAYED THREE WEEKS'\n",
        "'BURMAH OIL PROSPECTS REMAIN FAVOURABLE'\n",
        "'PARKER DRILLING CO <PKD> 2ND QTR FEB 28 LOSS'\n",
        "'TURKEY CALLS FOR DIALOGUE TO SOLVE DISPUTE'\n",
        "'INVESTMENT TECHNOLOGIES <IVES> IN REBATE PACT'\n",
        "'ENTOURAGE <ENTG> HAS FIRST QUARTER LOSS'\n",
        "\"\"\"\n",
        "\n",
        "print(\"correct sentence: \",q)\n",
        "seq = \" \".join(tokenizer.tokenize(q.lower())[0:5])\n",
        "print(\"Sequence: \",seq)\n",
        "print(\"next possible words: \", predict_completions(seq, 5))"
      ]
    },
    {
      "cell_type": "markdown",
      "id": "H41rOg1XpXUl",
      "metadata": {
        "id": "H41rOg1XpXUl"
      },
      "source": [
        "**Creating a Prediction script**"
      ]
    },
    {
      "cell_type": "code",
      "execution_count": null,
      "id": "jVlQUV23pa6X",
      "metadata": {
        "id": "jVlQUV23pa6X"
      },
      "outputs": [],
      "source": [
        "from tensorflow.keras.models import load_model\n",
        "\n",
        "# Load the model and tokenizer\n",
        "\n",
        "model = history\n",
        "\n",
        "def Predict_Next_Words(model, tokenizer, text):\n",
        "    \"\"\"\n",
        "        In this function we are using the tokenizer and models trained\n",
        "        and we are creating the sequence of the text entered and then\n",
        "        using our model to predict and return the the predicted word.\n",
        "    \n",
        "    \"\"\"\n",
        "    for i in range(3):\n",
        "        sequence = tokenizer.texts_to_sequences([text])[0]\n",
        "        sequence = np.array(sequence)\n",
        "        \n",
        "        preds = model.predict_classes(sequence)\n",
        "#         print(preds)\n",
        "        predicted_word = \"\"\n",
        "        \n",
        "        for key, value in tokenizer.word_index.items():\n",
        "            if value == preds:\n",
        "                predicted_word = key\n",
        "                break\n",
        "        \n",
        "        print(predicted_word)\n",
        "        return predicted_word"
      ]
    },
    {
      "cell_type": "code",
      "execution_count": null,
      "id": "LxZ-ZlCkpgZ0",
      "metadata": {
        "id": "LxZ-ZlCkpgZ0"
      },
      "outputs": [],
      "source": [
        "\"\"\"\n",
        "    We are testing our model and we will run the model\n",
        "    until the user decides to stop the script.\n",
        "    While the script is running we try and check if \n",
        "    the prediction can be made on the text. If no\n",
        "    prediction can be made we just continue.\n",
        "\n",
        "\"\"\"\n",
        "\n",
        "# text1 = \"at the dull\"\n",
        "# text2 = \"collection of textile\"\n",
        "# text3 = \"what a strenuous\"\n",
        "# text4 = \"stop the script\"\n",
        "\n",
        "while(True):\n",
        "\n",
        "    text = input(\"Enter your line: \")\n",
        "    \n",
        "    if text == \"stop the script\":\n",
        "        print(\"Ending The Program.....\")\n",
        "        break\n",
        "    \n",
        "    else:\n",
        "        try:\n",
        "            text = text.split(\" \")\n",
        "            text = text[-1]\n",
        "\n",
        "            text = ''.join(text)\n",
        "            Predict_Next_Words(model, tokenizer, text)\n",
        "            \n",
        "        except:\n",
        "            continue"
      ]
    }
  ],
  "metadata": {
    "accelerator": "GPU",
    "colab": {
      "provenance": []
    },
    "gpuClass": "standard",
    "kernelspec": {
      "display_name": "Python 3 (ipykernel)",
      "language": "python",
      "name": "python3"
    },
    "language_info": {
      "codemirror_mode": {
        "name": "ipython",
        "version": 3
      },
      "file_extension": ".py",
      "mimetype": "text/x-python",
      "name": "python",
      "nbconvert_exporter": "python",
      "pygments_lexer": "ipython3",
      "version": "3.8.5"
    }
  },
  "nbformat": 4,
  "nbformat_minor": 5
}